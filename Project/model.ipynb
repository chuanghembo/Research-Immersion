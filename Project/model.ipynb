{
 "cells": [
  {
   "cell_type": "markdown",
   "metadata": {},
   "source": [
    "## Load Python Libraries"
   ]
  },
  {
   "cell_type": "code",
   "execution_count": 82,
   "metadata": {},
   "outputs": [],
   "source": [
    "import torch\n",
    "from torchvision import transforms\n",
    "import torchvision.models as models\n",
    "from torch import optim\n",
    "from torch.utils.data import DataLoader, TensorDataset, ConcatDataset, Subset, SubsetRandomSampler\n",
    "\n",
    "import numpy as np\n",
    "import matplotlib.pyplot as plt\n",
    "import pandas as pd\n",
    "\n",
    "from sklearn.preprocessing import OneHotEncoder\n",
    "from sklearn.model_selection import KFold\n",
    "from sklearn.decomposition import PCA\n",
    "\n",
    "from scipy.stats import pearsonr\n",
    "from PIL import Image"
   ]
  },
  {
   "cell_type": "markdown",
   "metadata": {},
   "source": [
    "## Linear Model"
   ]
  },
  {
   "cell_type": "code",
   "execution_count": 83,
   "metadata": {},
   "outputs": [],
   "source": [
    "# Define model\n",
    "class Linear_NN(torch.nn.Module):\n",
    "\n",
    "    # 180 is given from the one-hot encoding of the 20 amino acids * 9 peptide length\n",
    "    def __init__(self, input_size):\n",
    "        super(Linear_NN, self).__init__()\n",
    "        self.fc1 = torch.nn.Linear(input_size, input_size // 2)\n",
    "        self.fc2 = torch.nn.Linear(input_size//2, input_size // 10)\n",
    "        self.fc3 = torch.nn.Linear(input_size//10, 1)\n",
    "        self.drop = torch.nn.Dropout(p=0.5)\n",
    "    \n",
    "    def forward(self, x):\n",
    "        x = torch.nn.functional.relu(self.fc1(x))\n",
    "        x = torch.nn.functional.relu(self.fc2(x))\n",
    "        x = self.drop(x)\n",
    "        out = self.fc3(x)\n",
    "        return out\n",
    "\n",
    "# Initialize model\n",
    "device = torch.device('cuda' if torch.cuda.is_available() else 'cpu')"
   ]
  },
  {
   "cell_type": "markdown",
   "metadata": {},
   "source": [
    "## Recurrent Neural Network"
   ]
  },
  {
   "cell_type": "code",
   "execution_count": 84,
   "metadata": {},
   "outputs": [],
   "source": [
    "class RNN(torch.nn.Module):\n",
    "    def __init__(self, input_size):\n",
    "        super(RNN, self).__init__()\n",
    "        \n",
    "        # Define the RNN layer\n",
    "        # Batch first means that the input and output tensors are provided as (batch, seq, feature)\n",
    "        # num_layers is the number of stacked RNN layers\n",
    "        self.rnn = torch.nn.RNN(input_size, hidden_size = 64, num_layers = 2, batch_first=True, nonlinearity='relu')\n",
    "        \n",
    "        # Define the fully connected layer\n",
    "        self.fc = torch.nn.Linear(64, 1)\n",
    "\n",
    "    def forward(self, x):\n",
    "\n",
    "        h0 = torch.zeros(2, x.size(0), 64).to(device)\n",
    "\n",
    "        # Forward pass\n",
    "        out, _ = self.rnn(x, h0)\n",
    "        # Output shape = (batch_size, seq_length, hidden_size)\n",
    "        # -1 means the last element of the sequence\n",
    "        out = self.fc(out[:, -1, :])\n",
    "        return out"
   ]
  },
  {
   "cell_type": "markdown",
   "metadata": {},
   "source": [
    "## Get a list of peptides"
   ]
  },
  {
   "cell_type": "code",
   "execution_count": 85,
   "metadata": {},
   "outputs": [],
   "source": [
    "peptide_score_file = './data/training_peptide_PSSM_scores.txt'\n",
    "\n",
    "def load_peptide_data(infile):\n",
    "\n",
    "    peptides = list()\n",
    "    PSSM_score = list()\n",
    "\n",
    "    with open(infile) as f:\n",
    "        for line in f:\n",
    "            peptide, score = line.strip().split()\n",
    "            peptides.append(list(peptide))\n",
    "            PSSM_score.append(float(score))\n",
    "\n",
    "    return peptides, PSSM_score\n",
    "\n",
    "peptides, PSSM_score = load_peptide_data(peptide_score_file)"
   ]
  },
  {
   "cell_type": "markdown",
   "metadata": {},
   "source": [
    "## One-hot encoding of the pepetides"
   ]
  },
  {
   "cell_type": "code",
   "execution_count": 86,
   "metadata": {},
   "outputs": [],
   "source": [
    "def one_hot_encode_peptides(peptides, flatten = True):\n",
    "\n",
    "    flattened_peptides = np.array(peptides).flatten().reshape(-1, 1)\n",
    "\n",
    "    # Initialize the OneHotEncoder\n",
    "    encoder = OneHotEncoder(categories=[list('ACDEFGHIKLMNPQRSTVWY')], sparse_output=False)\n",
    "\n",
    "    # Transform the peptide sequences into a one-hot encoded format\n",
    "    one_hot_encoded = encoder.fit_transform(flattened_peptides)\n",
    "\n",
    "    \n",
    "    num_peptides = len(peptides)\n",
    "    \n",
    "    if flatten:\n",
    "        # Reshape back into the original peptide sequence format\n",
    "        one_hot_encoded = one_hot_encoded.reshape(num_peptides, -1)\n",
    "        \n",
    "        return one_hot_encoded\n",
    "\n",
    "    one_hot_encoded = one_hot_encoded.reshape(num_peptides, len(peptides[0]), -1)\n",
    "\n",
    "    return one_hot_encoded"
   ]
  },
  {
   "cell_type": "markdown",
   "metadata": {},
   "source": [
    "## PCA-reduced Pixel encoding"
   ]
  },
  {
   "cell_type": "code",
   "execution_count": 87,
   "metadata": {},
   "outputs": [],
   "source": [
    "amino_acid_full_names = {\n",
    "    'A': 'alanine', 'R': 'arginine', 'N': 'asparagine', 'D': 'aspartic_acid', 'C': 'cysteine', \n",
    "    'E': 'glutamic_acid', 'Q': 'glutamine', 'G': 'glycine', 'H': 'histidine', 'I': 'isoleucine', \n",
    "    'L': 'leucine', 'K': 'lysine', 'M': 'methionine', 'F': 'phenylalanine', 'P': 'proline',\n",
    "    'S': 'serine', 'T': 'threonine', 'W': 'tryptophan', 'Y': 'tyrosine', 'V': 'valine'\n",
    "}"
   ]
  },
  {
   "cell_type": "markdown",
   "metadata": {},
   "source": [
    "### Load amino acid depictions"
   ]
  },
  {
   "cell_type": "code",
   "execution_count": 88,
   "metadata": {},
   "outputs": [],
   "source": [
    "#store images in cache to save performance\n",
    "image_cache = {}\n",
    "\n",
    "def load_AA_image(img_path, vgg = True):\n",
    "\n",
    "    if img_path in image_cache:\n",
    "        return image_cache[img_path]\n",
    "    \n",
    "    # Define transformation to do on image\n",
    "    \n",
    "    # Maybe not do it, if vgg is not the method\n",
    "    if vgg:\n",
    "        transform = transforms.Compose([\n",
    "        transforms.Resize((224,224)),\n",
    "        transforms.ToTensor(),\n",
    "        transforms.Normalize(mean=[0.485, 0.456, 0.406], std=[0.229, 0.224, 0.225]),\n",
    "        ])\n",
    "    else:\n",
    "        transform = transforms.Compose([transforms.ToTensor()])\n",
    "\n",
    "    image = Image.open(img_path).convert('RGB')\n",
    "    processed_image = transform(image).unsqueeze(0).to(device)\n",
    "    \n",
    "    image_cache[img_path] = processed_image\n",
    "    \n",
    "    return processed_image"
   ]
  },
  {
   "cell_type": "code",
   "execution_count": 89,
   "metadata": {},
   "outputs": [
    {
     "data": {
      "image/png": "[encoded data removed]",
      "text/plain": [
       "<Figure size 640x480 with 1 Axes>"
      ]
     },
     "metadata": {},
     "output_type": "display_data"
    }
   ],
   "source": [
    "features = []\n",
    "\n",
    "for letter, aa in amino_acid_full_names.items():\n",
    "        # load and preprocess\n",
    "        img_path = f'./2Dstruc/{aa}.png'\n",
    "        image = load_AA_image(img_path, vgg = False)\n",
    "        features.append(image.flatten())\n",
    "\n",
    "\n",
    "features = torch.cat(features, dim=0).reshape(20, -1).to(device)\n",
    "\n",
    "pca = PCA(random_state=42, n_components=2)\n",
    "X = pca.fit_transform(features.cpu().numpy())\n",
    "plt.scatter(X[:, 0], X[:, 1], c = range(20))\n",
    "for i, txt in enumerate(amino_acid_full_names.keys()):\n",
    "    plt.annotate(txt, (X[i, 0], X[i, 1]))"
   ]
  },
  {
   "cell_type": "code",
   "execution_count": 90,
   "metadata": {},
   "outputs": [],
   "source": [
    "def PCA_pixel_features(amino_acid_full_names, reduce_dim = True):\n",
    "    \n",
    "    pixel_features = []\n",
    "\n",
    "    for letter, aa in amino_acid_full_names.items():\n",
    "        # load and preprocess\n",
    "        img_path = f'./2Dstruc/{aa}.png'\n",
    "        image = load_AA_image(img_path, vgg = False)\n",
    "        pixel_features.append(image.flatten())\n",
    "\n",
    "    pixel_features = np.vstack(pixel_features)\n",
    "\n",
    "    if reduce_dim:\n",
    "\n",
    "        # PCA\n",
    "        pca = PCA(random_state=42)\n",
    "        pixel_features = pca.fit_transform(pixel_features)\n",
    "\n",
    "        aa_features_dict = {}\n",
    "        for idx, aa in enumerate(amino_acid_full_names.keys()):\n",
    "            aa_features_dict[aa] = pixel_features[idx, :]\n",
    "\n",
    "        return aa_features_dict, pca\n",
    "    \n",
    "\n",
    "    # Create dictionary with aa_name:PCA_feature\n",
    "    aa_features_dict = {}\n",
    "    for idx, aa in enumerate(amino_acid_full_names.keys()):\n",
    "        aa_features_dict[aa] = pixel_features[idx, :]\n",
    "\n",
    "    return aa_features_dict"
   ]
  },
  {
   "cell_type": "code",
   "execution_count": 91,
   "metadata": {},
   "outputs": [],
   "source": [
    "def plot_PCA_variance(pca, encoding_method, cumulative=True):\n",
    "    # Assuming you have already performed PCA and stored it in the variable 'pca'\n",
    "    variance_ratio = pca.explained_variance_ratio_\n",
    "\n",
    "    if cumulative:\n",
    "        cumulative_variance = np.cumsum(variance_ratio)\n",
    "        plt.figure()\n",
    "        plt.plot(range(1, len(cumulative_variance)+1), cumulative_variance, '*-')\n",
    "        plt.xlabel('Number of Components')\n",
    "        plt.ylabel('Cumulative Variance')\n",
    "        plt.title('Cumulative Variance by Number of Components, Encoding Method: ' + encoding_method)\n",
    "        plt.show()\n",
    "    else:\n",
    "        plt.figure()\n",
    "        plt.bar(range(1, len(variance_ratio)+1), variance_ratio)\n",
    "        plt.xlabel('Number of Components')\n",
    "        plt.ylabel('Variance Ratio')\n",
    "        plt.title('Variance Ratio by Number of Components, Encoding Method: ' + encoding_method)\n",
    "        plt.show()\n",
    "    "
   ]
  },
  {
   "cell_type": "markdown",
   "metadata": {},
   "source": [
    "## VGG16 transformation"
   ]
  },
  {
   "cell_type": "code",
   "execution_count": 92,
   "metadata": {},
   "outputs": [],
   "source": [
    "def vgg_features(amino_acid_full_names, reduce_dim = True):\n",
    "\n",
    "    # Define VGG model\n",
    "    vgg16_bn = torch.nn.Sequential(   \n",
    "    # Use only the convolutionary part\n",
    "    models.vgg16_bn(pretrained = True).features,\n",
    "    torch.nn.Flatten()\n",
    "    )\n",
    "\n",
    "    vgg16 = vgg16_bn.to(device)\n",
    "    vgg16.eval()\n",
    "\n",
    "    vgg_features = []\n",
    "\n",
    "    for aa in amino_acid_full_names.values():\n",
    "        # load and preprocess\n",
    "        img_path = f'./2Dstruc/{aa}.png'\n",
    "        image = load_AA_image(img_path)\n",
    "\n",
    "        # Disable gradient calculation\n",
    "        with torch.no_grad():\n",
    "            conv_features = vgg16(image)\n",
    "\n",
    "        vgg_features.append(conv_features.cpu().numpy())\n",
    "\n",
    "    vgg_features = np.vstack(vgg_features)\n",
    "\n",
    "    if reduce_dim:\n",
    "\n",
    "        pca = PCA(random_state=42)\n",
    "        vgg_features = pca.fit_transform(vgg_features)\n",
    "        \n",
    "        aa_features_dict = {}\n",
    "        for idx, aa in enumerate(amino_acid_full_names.keys()):\n",
    "            aa_features_dict[aa] = vgg_features[idx, :]\n",
    "\n",
    "        return aa_features_dict, pca\n",
    "\n",
    "    # Create dictionary with aa_name:PCA_feature\n",
    "    aa_features_dict = {}\n",
    "    for idx, aa in enumerate(amino_acid_full_names.keys()):\n",
    "        aa_features_dict[aa] = vgg_features[idx, :]\n",
    "\n",
    "    return aa_features_dict"
   ]
  },
  {
   "cell_type": "markdown",
   "metadata": {},
   "source": [
    "## ResNet50"
   ]
  },
  {
   "cell_type": "code",
   "execution_count": 93,
   "metadata": {},
   "outputs": [],
   "source": [
    "def resnet50_feature_extractor(amino_acid_full_names):\n",
    "    resnet50 = models.resnet50(pretrained=True)\n",
    "    feature_extractor = torch.nn.Sequential(*list(resnet50.children())[:-1]).to(device)\n",
    "\n",
    "    feature_extractor.eval()\n",
    "    \n",
    "    resnet50_features = {}\n",
    "\n",
    "    for letter, aa in amino_acid_full_names.items():\n",
    "        # load and preprocess\n",
    "        img_path = f'./2Dstruc/{aa}.png'\n",
    "        image = load_AA_image(img_path)\n",
    "        with torch.no_grad():\n",
    "            feature = feature_extractor(image)\n",
    "            resnet50_features[letter] = feature.cpu().numpy().flatten()\n",
    "    \n",
    "    return resnet50_features"
   ]
  },
  {
   "cell_type": "markdown",
   "metadata": {},
   "source": [
    "## Peptide data encoding"
   ]
  },
  {
   "cell_type": "code",
   "execution_count": 94,
   "metadata": {},
   "outputs": [],
   "source": [
    "def Encoder(peptides, aa_features_dict, flatten = True):\n",
    "    \n",
    "    encoded_peptides = []\n",
    "\n",
    "    for peptide in peptides:\n",
    "        encoded_peptide = []\n",
    "    \n",
    "        for aa in peptide:\n",
    "            encoded_peptide.append(aa_features_dict[aa])\n",
    "        \n",
    "        if flatten:\n",
    "            encoded_peptide = np.array(encoded_peptide).flatten()\n",
    "        \n",
    "        encoded_peptides.append(encoded_peptide)\n",
    "\n",
    "    return np.array(encoded_peptides)"
   ]
  },
  {
   "cell_type": "code",
   "execution_count": 95,
   "metadata": {},
   "outputs": [
    {
     "name": "stderr",
     "output_type": "stream",
     "text": [
      "C:\\Users\\Chuan\\AppData\\Local\\Packages\\PythonSoftwareFoundation.Python.3.11_qbz5n2kfra8p0\\LocalCache\\local-packages\\Python311\\site-packages\\torchvision\\models\\_utils.py:208: UserWarning: The parameter 'pretrained' is deprecated since 0.13 and may be removed in the future, please use 'weights' instead.\n",
      "  warnings.warn(\n",
      "C:\\Users\\Chuan\\AppData\\Local\\Packages\\PythonSoftwareFoundation.Python.3.11_qbz5n2kfra8p0\\LocalCache\\local-packages\\Python311\\site-packages\\torchvision\\models\\_utils.py:223: UserWarning: Arguments other than a weight enum or `None` for 'weights' are deprecated since 0.13 and may be removed in the future. The current behavior is equivalent to passing `weights=ResNet50_Weights.IMAGENET1K_V1`. You can also use `weights=ResNet50_Weights.DEFAULT` to get the most up-to-date weights.\n",
      "  warnings.warn(msg)\n"
     ]
    },
    {
     "name": "stdout",
     "output_type": "stream",
     "text": [
      "18432\n"
     ]
    }
   ],
   "source": [
    "encoding_method = 'resnet50' # onehot, pca, vgg, resnet50\n",
    "network_type = 'linear' # linear, rnn\n",
    "reduce_dim = False\n",
    "\n",
    "# If input need to be flattened\n",
    "if network_type == 'linear':\n",
    "    flatten = True\n",
    "else:\n",
    "    flatten = False\n",
    "\n",
    "\n",
    "# Encode method\n",
    "if encoding_method == 'onehot':\n",
    "    encoded_peptides = one_hot_encode_peptides(peptides, flatten=flatten)\n",
    "\n",
    "elif encoding_method == 'pca':\n",
    "    if reduce_dim:\n",
    "        aa_feature_dict, pca = PCA_pixel_features(amino_acid_full_names, reduce_dim=reduce_dim)\n",
    "    else:\n",
    "        aa_feature_dict = PCA_pixel_features(amino_acid_full_names, reduce_dim=reduce_dim)\n",
    "    \n",
    "    encoded_peptides = Encoder(peptides, aa_feature_dict, flatten=flatten)\n",
    "\n",
    "elif encoding_method == 'vgg':\n",
    "    if reduce_dim:\n",
    "        aa_feature_dict, pca = vgg_features(amino_acid_full_names, reduce_dim=reduce_dim)\n",
    "    else:   \n",
    "        aa_feature_dict = vgg_features(amino_acid_full_names, reduce_dim=reduce_dim)\n",
    "    \n",
    "    encoded_peptides = Encoder(peptides, aa_feature_dict, flatten=flatten)\n",
    "\n",
    "elif encoding_method == 'resnet50':\n",
    "    aa_feature_dict = resnet50_feature_extractor(amino_acid_full_names)\n",
    "    encoded_peptides = Encoder(peptides, aa_feature_dict, flatten=flatten)\n",
    "\n",
    "# If PCA is applied\n",
    "if reduce_dim:\n",
    "    plot_PCA_variance(pca, encoding_method, cumulative=True)\n",
    "  \n",
    "if network_type == 'linear':\n",
    "    input_size = encoded_peptides[0].shape[0]\n",
    "else:\n",
    "    input_size = encoded_peptides[0].shape[1]\n",
    "\n",
    "print(input_size)"
   ]
  },
  {
   "cell_type": "markdown",
   "metadata": {},
   "source": [
    "## Define function to reset weight\n",
    "Weight resetting aid to prevent the weight leakage"
   ]
  },
  {
   "cell_type": "code",
   "execution_count": 96,
   "metadata": {},
   "outputs": [],
   "source": [
    "def reset_weights(m):\n",
    "    if hasattr(m, 'reset_parameters'):\n",
    "        print(f'reset weight of layer {m}')\n",
    "        m.reset_parameters()"
   ]
  },
  {
   "cell_type": "markdown",
   "metadata": {},
   "source": [
    "### Loss function and optimizer"
   ]
  },
  {
   "cell_type": "code",
   "execution_count": 97,
   "metadata": {},
   "outputs": [],
   "source": [
    "# Define the loss function \n",
    "criterion = torch.nn.MSELoss()"
   ]
  },
  {
   "cell_type": "code",
   "execution_count": 98,
   "metadata": {},
   "outputs": [],
   "source": [
    "peptides_tensor = torch.tensor(encoded_peptides, dtype=torch.float32).to(device)\n",
    "PSSM_score_tensor = torch.tensor(np.asarray(PSSM_score).reshape(-1,1), dtype=torch.float32).to(device)\n",
    "\n",
    "peptides_dataset = TensorDataset(peptides_tensor, PSSM_score_tensor)"
   ]
  },
  {
   "cell_type": "markdown",
   "metadata": {},
   "source": [
    "## Train model"
   ]
  },
  {
   "cell_type": "code",
   "execution_count": 99,
   "metadata": {},
   "outputs": [],
   "source": [
    "def plot_loss(train_loss, val_loss, fold, encoding_method):\n",
    "    plt.figure()\n",
    "    plt.plot(train_loss, label='train err')\n",
    "    plt.plot(val_loss, label='val err')\n",
    "    plt.legend()\n",
    "    plt.yscale('log')\n",
    "    plt.style.use('seaborn-whitegrid')\n",
    "    plt.xlabel('Epoch')\n",
    "    plt.ylabel('Loss')\n",
    "    plt.savefig(f'./loss/{network_type}/{encoding_method}_loss_fold_{fold}.png')\n",
    "    plt.close()"
   ]
  },
  {
   "cell_type": "code",
   "execution_count": 100,
   "metadata": {},
   "outputs": [
    {
     "name": "stdout",
     "output_type": "stream",
     "text": [
      "Starting KFold Cross Validation\n",
      "Fold 1\n",
      "reset weight of layer Linear(in_features=18432, out_features=9216, bias=True)\n",
      "reset weight of layer Linear(in_features=9216, out_features=1843, bias=True)\n",
      "reset weight of layer Linear(in_features=1843, out_features=1, bias=True)\n",
      "Epoch 1\n",
      "Training loss: 45.82859837640192\n",
      "Validation Loss: 21.50148871421814\n",
      "Epoch 2\n"
     ]
    },
    {
     "ename": "KeyboardInterrupt",
     "evalue": "",
     "output_type": "error",
     "traceback": [
      "\u001b[1;31m---------------------------------------------------------------------------\u001b[0m",
      "\u001b[1;31mKeyboardInterrupt\u001b[0m                         Traceback (most recent call last)",
      "Cell \u001b[1;32mIn[100], line 61\u001b[0m\n\u001b[0;32m     58\u001b[0m     loss\u001b[38;5;241m.\u001b[39mbackward()\n\u001b[0;32m     60\u001b[0m     \u001b[38;5;66;03m# Optimize\u001b[39;00m\n\u001b[1;32m---> 61\u001b[0m     \u001b[43moptimizer\u001b[49m\u001b[38;5;241;43m.\u001b[39;49m\u001b[43mstep\u001b[49m\u001b[43m(\u001b[49m\u001b[43m)\u001b[49m\n\u001b[0;32m     63\u001b[0m     training_loss \u001b[38;5;241m+\u001b[39m\u001b[38;5;241m=\u001b[39m loss\u001b[38;5;241m.\u001b[39mitem()\n\u001b[0;32m     65\u001b[0m \u001b[38;5;28;01mwith\u001b[39;00m torch\u001b[38;5;241m.\u001b[39mno_grad():\n",
      "File \u001b[1;32m~\\AppData\\Local\\Packages\\PythonSoftwareFoundation.Python.3.11_qbz5n2kfra8p0\\LocalCache\\local-packages\\Python311\\site-packages\\torch\\optim\\optimizer.py:385\u001b[0m, in \u001b[0;36mOptimizer.profile_hook_step.<locals>.wrapper\u001b[1;34m(*args, **kwargs)\u001b[0m\n\u001b[0;32m    380\u001b[0m         \u001b[38;5;28;01melse\u001b[39;00m:\n\u001b[0;32m    381\u001b[0m             \u001b[38;5;28;01mraise\u001b[39;00m \u001b[38;5;167;01mRuntimeError\u001b[39;00m(\n\u001b[0;32m    382\u001b[0m                 \u001b[38;5;124mf\u001b[39m\u001b[38;5;124m\"\u001b[39m\u001b[38;5;132;01m{\u001b[39;00mfunc\u001b[38;5;132;01m}\u001b[39;00m\u001b[38;5;124m must return None or a tuple of (new_args, new_kwargs), but got \u001b[39m\u001b[38;5;132;01m{\u001b[39;00mresult\u001b[38;5;132;01m}\u001b[39;00m\u001b[38;5;124m.\u001b[39m\u001b[38;5;124m\"\u001b[39m\n\u001b[0;32m    383\u001b[0m             )\n\u001b[1;32m--> 385\u001b[0m out \u001b[38;5;241m=\u001b[39m \u001b[43mfunc\u001b[49m\u001b[43m(\u001b[49m\u001b[38;5;241;43m*\u001b[39;49m\u001b[43margs\u001b[49m\u001b[43m,\u001b[49m\u001b[43m \u001b[49m\u001b[38;5;241;43m*\u001b[39;49m\u001b[38;5;241;43m*\u001b[39;49m\u001b[43mkwargs\u001b[49m\u001b[43m)\u001b[49m\n\u001b[0;32m    386\u001b[0m \u001b[38;5;28mself\u001b[39m\u001b[38;5;241m.\u001b[39m_optimizer_step_code()\n\u001b[0;32m    388\u001b[0m \u001b[38;5;66;03m# call optimizer step post hooks\u001b[39;00m\n",
      "File \u001b[1;32m~\\AppData\\Local\\Packages\\PythonSoftwareFoundation.Python.3.11_qbz5n2kfra8p0\\LocalCache\\local-packages\\Python311\\site-packages\\torch\\optim\\optimizer.py:76\u001b[0m, in \u001b[0;36m_use_grad_for_differentiable.<locals>._use_grad\u001b[1;34m(self, *args, **kwargs)\u001b[0m\n\u001b[0;32m     74\u001b[0m     torch\u001b[38;5;241m.\u001b[39mset_grad_enabled(\u001b[38;5;28mself\u001b[39m\u001b[38;5;241m.\u001b[39mdefaults[\u001b[38;5;124m'\u001b[39m\u001b[38;5;124mdifferentiable\u001b[39m\u001b[38;5;124m'\u001b[39m])\n\u001b[0;32m     75\u001b[0m     torch\u001b[38;5;241m.\u001b[39m_dynamo\u001b[38;5;241m.\u001b[39mgraph_break()\n\u001b[1;32m---> 76\u001b[0m     ret \u001b[38;5;241m=\u001b[39m \u001b[43mfunc\u001b[49m\u001b[43m(\u001b[49m\u001b[38;5;28;43mself\u001b[39;49m\u001b[43m,\u001b[49m\u001b[43m \u001b[49m\u001b[38;5;241;43m*\u001b[39;49m\u001b[43margs\u001b[49m\u001b[43m,\u001b[49m\u001b[43m \u001b[49m\u001b[38;5;241;43m*\u001b[39;49m\u001b[38;5;241;43m*\u001b[39;49m\u001b[43mkwargs\u001b[49m\u001b[43m)\u001b[49m\n\u001b[0;32m     77\u001b[0m \u001b[38;5;28;01mfinally\u001b[39;00m:\n\u001b[0;32m     78\u001b[0m     torch\u001b[38;5;241m.\u001b[39m_dynamo\u001b[38;5;241m.\u001b[39mgraph_break()\n",
      "File \u001b[1;32m~\\AppData\\Local\\Packages\\PythonSoftwareFoundation.Python.3.11_qbz5n2kfra8p0\\LocalCache\\local-packages\\Python311\\site-packages\\torch\\optim\\adam.py:166\u001b[0m, in \u001b[0;36mAdam.step\u001b[1;34m(self, closure)\u001b[0m\n\u001b[0;32m    155\u001b[0m     beta1, beta2 \u001b[38;5;241m=\u001b[39m group[\u001b[38;5;124m'\u001b[39m\u001b[38;5;124mbetas\u001b[39m\u001b[38;5;124m'\u001b[39m]\n\u001b[0;32m    157\u001b[0m     has_complex \u001b[38;5;241m=\u001b[39m \u001b[38;5;28mself\u001b[39m\u001b[38;5;241m.\u001b[39m_init_group(\n\u001b[0;32m    158\u001b[0m         group,\n\u001b[0;32m    159\u001b[0m         params_with_grad,\n\u001b[1;32m   (...)\u001b[0m\n\u001b[0;32m    163\u001b[0m         max_exp_avg_sqs,\n\u001b[0;32m    164\u001b[0m         state_steps)\n\u001b[1;32m--> 166\u001b[0m     \u001b[43madam\u001b[49m\u001b[43m(\u001b[49m\n\u001b[0;32m    167\u001b[0m \u001b[43m        \u001b[49m\u001b[43mparams_with_grad\u001b[49m\u001b[43m,\u001b[49m\n\u001b[0;32m    168\u001b[0m \u001b[43m        \u001b[49m\u001b[43mgrads\u001b[49m\u001b[43m,\u001b[49m\n\u001b[0;32m    169\u001b[0m \u001b[43m        \u001b[49m\u001b[43mexp_avgs\u001b[49m\u001b[43m,\u001b[49m\n\u001b[0;32m    170\u001b[0m \u001b[43m        \u001b[49m\u001b[43mexp_avg_sqs\u001b[49m\u001b[43m,\u001b[49m\n\u001b[0;32m    171\u001b[0m \u001b[43m        \u001b[49m\u001b[43mmax_exp_avg_sqs\u001b[49m\u001b[43m,\u001b[49m\n\u001b[0;32m    172\u001b[0m \u001b[43m        \u001b[49m\u001b[43mstate_steps\u001b[49m\u001b[43m,\u001b[49m\n\u001b[0;32m    173\u001b[0m \u001b[43m        \u001b[49m\u001b[43mamsgrad\u001b[49m\u001b[38;5;241;43m=\u001b[39;49m\u001b[43mgroup\u001b[49m\u001b[43m[\u001b[49m\u001b[38;5;124;43m'\u001b[39;49m\u001b[38;5;124;43mamsgrad\u001b[39;49m\u001b[38;5;124;43m'\u001b[39;49m\u001b[43m]\u001b[49m\u001b[43m,\u001b[49m\n\u001b[0;32m    174\u001b[0m \u001b[43m        \u001b[49m\u001b[43mhas_complex\u001b[49m\u001b[38;5;241;43m=\u001b[39;49m\u001b[43mhas_complex\u001b[49m\u001b[43m,\u001b[49m\n\u001b[0;32m    175\u001b[0m \u001b[43m        \u001b[49m\u001b[43mbeta1\u001b[49m\u001b[38;5;241;43m=\u001b[39;49m\u001b[43mbeta1\u001b[49m\u001b[43m,\u001b[49m\n\u001b[0;32m    176\u001b[0m \u001b[43m        \u001b[49m\u001b[43mbeta2\u001b[49m\u001b[38;5;241;43m=\u001b[39;49m\u001b[43mbeta2\u001b[49m\u001b[43m,\u001b[49m\n\u001b[0;32m    177\u001b[0m \u001b[43m        \u001b[49m\u001b[43mlr\u001b[49m\u001b[38;5;241;43m=\u001b[39;49m\u001b[43mgroup\u001b[49m\u001b[43m[\u001b[49m\u001b[38;5;124;43m'\u001b[39;49m\u001b[38;5;124;43mlr\u001b[39;49m\u001b[38;5;124;43m'\u001b[39;49m\u001b[43m]\u001b[49m\u001b[43m,\u001b[49m\n\u001b[0;32m    178\u001b[0m \u001b[43m        \u001b[49m\u001b[43mweight_decay\u001b[49m\u001b[38;5;241;43m=\u001b[39;49m\u001b[43mgroup\u001b[49m\u001b[43m[\u001b[49m\u001b[38;5;124;43m'\u001b[39;49m\u001b[38;5;124;43mweight_decay\u001b[39;49m\u001b[38;5;124;43m'\u001b[39;49m\u001b[43m]\u001b[49m\u001b[43m,\u001b[49m\n\u001b[0;32m    179\u001b[0m \u001b[43m        \u001b[49m\u001b[43meps\u001b[49m\u001b[38;5;241;43m=\u001b[39;49m\u001b[43mgroup\u001b[49m\u001b[43m[\u001b[49m\u001b[38;5;124;43m'\u001b[39;49m\u001b[38;5;124;43meps\u001b[39;49m\u001b[38;5;124;43m'\u001b[39;49m\u001b[43m]\u001b[49m\u001b[43m,\u001b[49m\n\u001b[0;32m    180\u001b[0m \u001b[43m        \u001b[49m\u001b[43mmaximize\u001b[49m\u001b[38;5;241;43m=\u001b[39;49m\u001b[43mgroup\u001b[49m\u001b[43m[\u001b[49m\u001b[38;5;124;43m'\u001b[39;49m\u001b[38;5;124;43mmaximize\u001b[39;49m\u001b[38;5;124;43m'\u001b[39;49m\u001b[43m]\u001b[49m\u001b[43m,\u001b[49m\n\u001b[0;32m    181\u001b[0m \u001b[43m        \u001b[49m\u001b[43mforeach\u001b[49m\u001b[38;5;241;43m=\u001b[39;49m\u001b[43mgroup\u001b[49m\u001b[43m[\u001b[49m\u001b[38;5;124;43m'\u001b[39;49m\u001b[38;5;124;43mforeach\u001b[39;49m\u001b[38;5;124;43m'\u001b[39;49m\u001b[43m]\u001b[49m\u001b[43m,\u001b[49m\n\u001b[0;32m    182\u001b[0m \u001b[43m        \u001b[49m\u001b[43mcapturable\u001b[49m\u001b[38;5;241;43m=\u001b[39;49m\u001b[43mgroup\u001b[49m\u001b[43m[\u001b[49m\u001b[38;5;124;43m'\u001b[39;49m\u001b[38;5;124;43mcapturable\u001b[39;49m\u001b[38;5;124;43m'\u001b[39;49m\u001b[43m]\u001b[49m\u001b[43m,\u001b[49m\n\u001b[0;32m    183\u001b[0m \u001b[43m        \u001b[49m\u001b[43mdifferentiable\u001b[49m\u001b[38;5;241;43m=\u001b[39;49m\u001b[43mgroup\u001b[49m\u001b[43m[\u001b[49m\u001b[38;5;124;43m'\u001b[39;49m\u001b[38;5;124;43mdifferentiable\u001b[39;49m\u001b[38;5;124;43m'\u001b[39;49m\u001b[43m]\u001b[49m\u001b[43m,\u001b[49m\n\u001b[0;32m    184\u001b[0m \u001b[43m        \u001b[49m\u001b[43mfused\u001b[49m\u001b[38;5;241;43m=\u001b[39;49m\u001b[43mgroup\u001b[49m\u001b[43m[\u001b[49m\u001b[38;5;124;43m'\u001b[39;49m\u001b[38;5;124;43mfused\u001b[39;49m\u001b[38;5;124;43m'\u001b[39;49m\u001b[43m]\u001b[49m\u001b[43m,\u001b[49m\n\u001b[0;32m    185\u001b[0m \u001b[43m        \u001b[49m\u001b[43mgrad_scale\u001b[49m\u001b[38;5;241;43m=\u001b[39;49m\u001b[38;5;28;43mgetattr\u001b[39;49m\u001b[43m(\u001b[49m\u001b[38;5;28;43mself\u001b[39;49m\u001b[43m,\u001b[49m\u001b[43m \u001b[49m\u001b[38;5;124;43m\"\u001b[39;49m\u001b[38;5;124;43mgrad_scale\u001b[39;49m\u001b[38;5;124;43m\"\u001b[39;49m\u001b[43m,\u001b[49m\u001b[43m \u001b[49m\u001b[38;5;28;43;01mNone\u001b[39;49;00m\u001b[43m)\u001b[49m\u001b[43m,\u001b[49m\n\u001b[0;32m    186\u001b[0m \u001b[43m        \u001b[49m\u001b[43mfound_inf\u001b[49m\u001b[38;5;241;43m=\u001b[39;49m\u001b[38;5;28;43mgetattr\u001b[39;49m\u001b[43m(\u001b[49m\u001b[38;5;28;43mself\u001b[39;49m\u001b[43m,\u001b[49m\u001b[43m \u001b[49m\u001b[38;5;124;43m\"\u001b[39;49m\u001b[38;5;124;43mfound_inf\u001b[39;49m\u001b[38;5;124;43m\"\u001b[39;49m\u001b[43m,\u001b[49m\u001b[43m \u001b[49m\u001b[38;5;28;43;01mNone\u001b[39;49;00m\u001b[43m)\u001b[49m\u001b[43m,\u001b[49m\n\u001b[0;32m    187\u001b[0m \u001b[43m    \u001b[49m\u001b[43m)\u001b[49m\n\u001b[0;32m    189\u001b[0m \u001b[38;5;28;01mreturn\u001b[39;00m loss\n",
      "File \u001b[1;32m~\\AppData\\Local\\Packages\\PythonSoftwareFoundation.Python.3.11_qbz5n2kfra8p0\\LocalCache\\local-packages\\Python311\\site-packages\\torch\\optim\\adam.py:316\u001b[0m, in \u001b[0;36madam\u001b[1;34m(params, grads, exp_avgs, exp_avg_sqs, max_exp_avg_sqs, state_steps, foreach, capturable, differentiable, fused, grad_scale, found_inf, has_complex, amsgrad, beta1, beta2, lr, weight_decay, eps, maximize)\u001b[0m\n\u001b[0;32m    313\u001b[0m \u001b[38;5;28;01melse\u001b[39;00m:\n\u001b[0;32m    314\u001b[0m     func \u001b[38;5;241m=\u001b[39m _single_tensor_adam\n\u001b[1;32m--> 316\u001b[0m \u001b[43mfunc\u001b[49m\u001b[43m(\u001b[49m\u001b[43mparams\u001b[49m\u001b[43m,\u001b[49m\n\u001b[0;32m    317\u001b[0m \u001b[43m     \u001b[49m\u001b[43mgrads\u001b[49m\u001b[43m,\u001b[49m\n\u001b[0;32m    318\u001b[0m \u001b[43m     \u001b[49m\u001b[43mexp_avgs\u001b[49m\u001b[43m,\u001b[49m\n\u001b[0;32m    319\u001b[0m \u001b[43m     \u001b[49m\u001b[43mexp_avg_sqs\u001b[49m\u001b[43m,\u001b[49m\n\u001b[0;32m    320\u001b[0m \u001b[43m     \u001b[49m\u001b[43mmax_exp_avg_sqs\u001b[49m\u001b[43m,\u001b[49m\n\u001b[0;32m    321\u001b[0m \u001b[43m     \u001b[49m\u001b[43mstate_steps\u001b[49m\u001b[43m,\u001b[49m\n\u001b[0;32m    322\u001b[0m \u001b[43m     \u001b[49m\u001b[43mamsgrad\u001b[49m\u001b[38;5;241;43m=\u001b[39;49m\u001b[43mamsgrad\u001b[49m\u001b[43m,\u001b[49m\n\u001b[0;32m    323\u001b[0m \u001b[43m     \u001b[49m\u001b[43mhas_complex\u001b[49m\u001b[38;5;241;43m=\u001b[39;49m\u001b[43mhas_complex\u001b[49m\u001b[43m,\u001b[49m\n\u001b[0;32m    324\u001b[0m \u001b[43m     \u001b[49m\u001b[43mbeta1\u001b[49m\u001b[38;5;241;43m=\u001b[39;49m\u001b[43mbeta1\u001b[49m\u001b[43m,\u001b[49m\n\u001b[0;32m    325\u001b[0m \u001b[43m     \u001b[49m\u001b[43mbeta2\u001b[49m\u001b[38;5;241;43m=\u001b[39;49m\u001b[43mbeta2\u001b[49m\u001b[43m,\u001b[49m\n\u001b[0;32m    326\u001b[0m \u001b[43m     \u001b[49m\u001b[43mlr\u001b[49m\u001b[38;5;241;43m=\u001b[39;49m\u001b[43mlr\u001b[49m\u001b[43m,\u001b[49m\n\u001b[0;32m    327\u001b[0m \u001b[43m     \u001b[49m\u001b[43mweight_decay\u001b[49m\u001b[38;5;241;43m=\u001b[39;49m\u001b[43mweight_decay\u001b[49m\u001b[43m,\u001b[49m\n\u001b[0;32m    328\u001b[0m \u001b[43m     \u001b[49m\u001b[43meps\u001b[49m\u001b[38;5;241;43m=\u001b[39;49m\u001b[43meps\u001b[49m\u001b[43m,\u001b[49m\n\u001b[0;32m    329\u001b[0m \u001b[43m     \u001b[49m\u001b[43mmaximize\u001b[49m\u001b[38;5;241;43m=\u001b[39;49m\u001b[43mmaximize\u001b[49m\u001b[43m,\u001b[49m\n\u001b[0;32m    330\u001b[0m \u001b[43m     \u001b[49m\u001b[43mcapturable\u001b[49m\u001b[38;5;241;43m=\u001b[39;49m\u001b[43mcapturable\u001b[49m\u001b[43m,\u001b[49m\n\u001b[0;32m    331\u001b[0m \u001b[43m     \u001b[49m\u001b[43mdifferentiable\u001b[49m\u001b[38;5;241;43m=\u001b[39;49m\u001b[43mdifferentiable\u001b[49m\u001b[43m,\u001b[49m\n\u001b[0;32m    332\u001b[0m \u001b[43m     \u001b[49m\u001b[43mgrad_scale\u001b[49m\u001b[38;5;241;43m=\u001b[39;49m\u001b[43mgrad_scale\u001b[49m\u001b[43m,\u001b[49m\n\u001b[0;32m    333\u001b[0m \u001b[43m     \u001b[49m\u001b[43mfound_inf\u001b[49m\u001b[38;5;241;43m=\u001b[39;49m\u001b[43mfound_inf\u001b[49m\u001b[43m)\u001b[49m\n",
      "File \u001b[1;32m~\\AppData\\Local\\Packages\\PythonSoftwareFoundation.Python.3.11_qbz5n2kfra8p0\\LocalCache\\local-packages\\Python311\\site-packages\\torch\\optim\\adam.py:439\u001b[0m, in \u001b[0;36m_single_tensor_adam\u001b[1;34m(params, grads, exp_avgs, exp_avg_sqs, max_exp_avg_sqs, state_steps, grad_scale, found_inf, amsgrad, has_complex, beta1, beta2, lr, weight_decay, eps, maximize, capturable, differentiable)\u001b[0m\n\u001b[0;32m    437\u001b[0m         denom \u001b[38;5;241m=\u001b[39m (max_exp_avg_sqs[i]\u001b[38;5;241m.\u001b[39msqrt() \u001b[38;5;241m/\u001b[39m bias_correction2_sqrt)\u001b[38;5;241m.\u001b[39madd_(eps)\n\u001b[0;32m    438\u001b[0m     \u001b[38;5;28;01melse\u001b[39;00m:\n\u001b[1;32m--> 439\u001b[0m         denom \u001b[38;5;241m=\u001b[39m \u001b[43m(\u001b[49m\u001b[43mexp_avg_sq\u001b[49m\u001b[38;5;241;43m.\u001b[39;49m\u001b[43msqrt\u001b[49m\u001b[43m(\u001b[49m\u001b[43m)\u001b[49m\u001b[43m \u001b[49m\u001b[38;5;241;43m/\u001b[39;49m\u001b[43m \u001b[49m\u001b[43mbias_correction2_sqrt\u001b[49m\u001b[43m)\u001b[49m\u001b[38;5;241;43m.\u001b[39;49m\u001b[43madd_\u001b[49m\u001b[43m(\u001b[49m\u001b[43meps\u001b[49m\u001b[43m)\u001b[49m\n\u001b[0;32m    441\u001b[0m     param\u001b[38;5;241m.\u001b[39maddcdiv_(exp_avg, denom, value\u001b[38;5;241m=\u001b[39m\u001b[38;5;241m-\u001b[39mstep_size)\n\u001b[0;32m    443\u001b[0m \u001b[38;5;66;03m# Lastly, switch back to complex view\u001b[39;00m\n",
      "\u001b[1;31mKeyboardInterrupt\u001b[0m: "
     ]
    },
    {
     "ename": "",
     "evalue": "",
     "output_type": "error",
     "traceback": [
      "\u001b[1;31mThe Kernel crashed while executing code in the current cell or a previous cell. \n",
      "\u001b[1;31mPlease review the code in the cell(s) to identify a possible cause of the failure. \n",
      "\u001b[1;31mClick <a href='https://aka.ms/vscodeJupyterKernelCrash'>here</a> for more info. \n",
      "\u001b[1;31mView Jupyter <a href='command:jupyter.viewOutput'>log</a> for further details."
     ]
    }
   ],
   "source": [
    "torch.manual_seed(69)\n",
    "\n",
    "kfold = KFold(n_splits=5, shuffle=True, random_state=69)\n",
    "\n",
    "print(\"Starting KFold Cross Validation\")\n",
    "\n",
    "for fold, (train_ids, test_ids) in enumerate(kfold.split(peptides_dataset), 1):\n",
    "    \n",
    "    print(f'Fold {fold}')\n",
    "\n",
    "    # Shuffle the data\n",
    "    train_subsampler = SubsetRandomSampler(train_ids)\n",
    "    test_subsampler = SubsetRandomSampler(test_ids)\n",
    "\n",
    "    # Define the data loaders\n",
    "    train_loader = DataLoader(peptides_dataset, batch_size=10, sampler=train_subsampler)\n",
    "    test_loader = DataLoader(peptides_dataset, batch_size=10, sampler=test_subsampler)\n",
    "\n",
    "    # Initialize NN\n",
    "    if network_type == 'linear':\n",
    "        model = Linear_NN(input_size).to(device)\n",
    "    \n",
    "    elif network_type == 'rnn':\n",
    "        model = RNN(input_size).to(device)\n",
    "\n",
    "    model.apply(reset_weights)\n",
    "\n",
    "\n",
    "    # Define the optimizer\n",
    "    optimizer = optim.Adam(model.parameters(), lr=0.001)\n",
    "    \n",
    "    training_losses = []\n",
    "    validation_losses = []\n",
    "\n",
    "    for epoch in range(0, 100):\n",
    "    \n",
    "            print(f'Epoch {epoch+1}')\n",
    "\n",
    "            training_loss = 0.0\n",
    "\n",
    "            for i, data in enumerate(train_loader):\n",
    "                  \n",
    "                # Get the inputs\n",
    "                inputs, labels = data\n",
    "\n",
    "                # Zero the parameter gradients\n",
    "                optimizer.zero_grad()\n",
    "                \n",
    "                if network_type == 'rnn':\n",
    "                    inputs = inputs.view(-1, len(peptides[0]), input_size)\n",
    "\n",
    "                outputs = model(inputs)\n",
    "\n",
    "                # Calculate the loss\n",
    "                loss = criterion(outputs, labels)\n",
    "\n",
    "                # Backward pass\n",
    "                loss.backward()\n",
    "\n",
    "                # Optimize\n",
    "                optimizer.step()\n",
    "\n",
    "                training_loss += loss.item()\n",
    "            \n",
    "            with torch.no_grad():\n",
    "                model.eval()\n",
    "                validation_loss = 0.0\n",
    "\n",
    "                for inputs, labels in test_loader:\n",
    "\n",
    "                    outputs = model(inputs)\n",
    "                    loss = criterion(outputs, labels)\n",
    "\n",
    "                    validation_loss += loss.item()\n",
    "\n",
    "            training_losses.append(training_loss/len(train_loader))\n",
    "            validation_losses.append(validation_loss/len(test_loader))\n",
    "\n",
    "            print(f'Training loss: {training_loss/len(train_loader)}')\n",
    "            print(f'Validation Loss: {validation_loss/len(test_loader)}')\n",
    "\n",
    "            \n",
    "    # Save the model\n",
    "    print('Finished Training, Saving Model')\n",
    "    torch.save(model.state_dict(), f'./model/{network_type}/{encoding_method}_model_fold_{fold}.pt')\n",
    "\n",
    "    # Plot the loss\n",
    "    plot_loss(training_losses, validation_losses, fold, encoding_method) \n",
    "  \n",
    "    "
   ]
  },
  {
   "cell_type": "markdown",
   "metadata": {},
   "source": [
    "## Evaluating the model with unseen data"
   ]
  },
  {
   "cell_type": "code",
   "execution_count": null,
   "metadata": {},
   "outputs": [
    {
     "name": "stdout",
     "output_type": "stream",
     "text": [
      "Total Loss: 0.043377190828323364\n"
     ]
    }
   ],
   "source": [
    "evaluation_data = f'./data/evaluation_peptide_PSSM_scores.txt'\n",
    "# evaluation_data = '../data/data/PSSM/A0201.eval'\n",
    "evaluation_peptides, evaluation_score = load_peptide_data(evaluation_data)\n",
    "\n",
    "if encoding_method == 'onehot':\n",
    "    encoded_evaluation_peptides = one_hot_encode_peptides(evaluation_peptides, flatten=flatten)\n",
    "else:\n",
    "    encoded_evaluation_peptides = Encoder(evaluation_peptides, aa_feature_dict, flatten=flatten)\n",
    "\n",
    "# Convert to tensors\n",
    "evaluation_peptides_tensor = torch.tensor(encoded_evaluation_peptides, dtype=torch.float32).to(device)\n",
    "evaluation_score_tensor = torch.tensor(np.asarray(evaluation_score).reshape(-1,1), dtype=torch.float32).to(device)\n",
    "\n",
    "evaluation_peptides_dataset = TensorDataset(evaluation_peptides_tensor, evaluation_score_tensor)\n",
    "\n",
    "\n",
    "def evaluate_model(models, evaluation_peptides_dataset):\n",
    "    predictions = []\n",
    "\n",
    "    evaluation_data_loader = DataLoader(evaluation_peptides_dataset, batch_size=10)\n",
    "\n",
    "    with torch.no_grad():\n",
    "        for model in models:\n",
    "            model.eval()\n",
    "            model_predictions = []\n",
    "\n",
    "            for peptides, _ in evaluation_data_loader:\n",
    "                peptides = peptides.to(device)\n",
    "                outputs = model(peptides)\n",
    "                model_predictions.extend(outputs.cpu().numpy())\n",
    "\n",
    "            predictions.append(model_predictions)\n",
    "\n",
    "    # Average predictions across models\n",
    "    averaged_predictions = np.mean(predictions, axis=0)\n",
    "\n",
    "    # Calculate total loss\n",
    "    total_loss = criterion(torch.tensor(averaged_predictions, dtype=torch.float32).to(device), evaluation_score_tensor).item()\n",
    "\n",
    "    return averaged_predictions, total_loss\n",
    "\n",
    "# Load models\n",
    "models = []\n",
    "for i in range(1,6):\n",
    "\n",
    "    if network_type == 'linear':\n",
    "        model = Linear_NN(input_size).to(device)\n",
    "    elif network_type == 'rnn':\n",
    "        model = RNN(input_size).to(device)\n",
    "    \n",
    "    model.load_state_dict(torch.load(f'./model/{network_type}/{encoding_method}_model_fold_{i}.pt'))\n",
    "    models.append(model)\n",
    "\n",
    "# Test models\n",
    "predictions, total_loss = evaluate_model(models, evaluation_peptides_dataset)\n",
    "\n",
    "print(f'Total Loss: {total_loss}')"
   ]
  },
  {
   "cell_type": "markdown",
   "metadata": {},
   "source": [
    "## Saving evaluation data prediction result"
   ]
  },
  {
   "cell_type": "code",
   "execution_count": null,
   "metadata": {},
   "outputs": [],
   "source": [
    "outfile = f'./evaluation_result/{network_type}/{encoding_method}_evaluation_predictions.txt'\n",
    "\n",
    "with open(outfile, 'w') as f:\n",
    "    print('Peptide      Score      Prediction', file=f)\n",
    "    for peptide, score, prediction in zip(evaluation_peptides, evaluation_score, predictions):\n",
    "        print(f'{\"\".join(peptide):<12} {score:<10.4f} {prediction[0]:<10.4f}', file=f)"
   ]
  },
  {
   "cell_type": "code",
   "execution_count": null,
   "metadata": {},
   "outputs": [
    {
     "name": "stdout",
     "output_type": "stream",
     "text": [
      "PCC:  0.9991922561442246\n"
     ]
    },
    {
     "name": "stderr",
     "output_type": "stream",
     "text": [
      "C:\\Users\\Chuan\\AppData\\Local\\Temp\\ipykernel_3272\\2179984889.py:5: MatplotlibDeprecationWarning: The seaborn styles shipped by Matplotlib are deprecated since 3.6, as they no longer correspond to the styles shipped by seaborn. However, they will remain available as 'seaborn-v0_8-<style>'. Alternatively, directly use the seaborn API instead.\n",
      "  plt.style.use('seaborn-whitegrid');\n"
     ]
    },
    {
     "data": {
      "image/png": "[encoded data removed]",
      "text/plain": [
       "<Figure size 640x480 with 1 Axes>"
      ]
     },
     "metadata": {},
     "output_type": "display_data"
    }
   ],
   "source": [
    "pcc = pearsonr(evaluation_score, np.array(predictions).flatten())\n",
    "print(\"PCC: \", pcc[0])\n",
    "\n",
    "plt.figure()\n",
    "plt.style.use('seaborn-whitegrid');\n",
    "plt.scatter(evaluation_score, predictions, edgecolors='black');\n",
    "plt.xlabel('Target PSSM');\n",
    "plt.ylabel('Predicted PSSM');\n",
    "plt.title(f'Encoding Method: {encoding_method}, PCC: {pcc[0]:.4f}, total loss: {total_loss:.4f}');\n",
    "plt.savefig(f'./evaluation_result/{network_type}/{encoding_method}_evaluation_scatter.png')"
   ]
  }
 ],
 "metadata": {
  "kernelspec": {
   "display_name": "Python 3",
   "language": "python",
   "name": "python3"
  },
  "language_info": {
   "codemirror_mode": {
    "name": "ipython",
    "version": 3
   },
   "file_extension": ".py",
   "mimetype": "text/x-python",
   "name": "python",
   "nbconvert_exporter": "python",
   "pygments_lexer": "ipython3",
   "version": "3.11.9"
  }
 },
 "nbformat": 4,
 "nbformat_minor": 2
}
