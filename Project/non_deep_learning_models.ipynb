{
 "cells": [
  {
   "cell_type": "markdown",
   "metadata": {},
   "source": [
    "## Load Libraries"
   ]
  },
  {
   "cell_type": "code",
   "execution_count": 258,
   "metadata": {},
   "outputs": [],
   "source": [
    "from sklearn.linear_model import LogisticRegression\n",
    "from sklearn.preprocessing import OneHotEncoder\n",
    "from sklearn.model_selection import train_test_split, GridSearchCV, StratifiedKFold\n",
    "from sklearn.metrics import classification_report, roc_curve, auc, average_precision_score\n",
    "from sklearn.ensemble import VotingClassifier\n",
    "from sklearn.decomposition import PCA\n",
    "from xgboost import XGBClassifier\n",
    "import numpy as np\n",
    "import matplotlib.pyplot as plt \n",
    "\n",
    "import torch\n",
    "from torchvision import transforms\n",
    "import torchvision.models as models\n",
    "\n",
    "from PIL import Image"
   ]
  },
  {
   "cell_type": "code",
   "execution_count": 259,
   "metadata": {},
   "outputs": [],
   "source": [
    "RANDOM_SEED = 42\n",
    "CV_FOLD = 5\n",
    "MAX_ITER = 10000\n",
    "ENCODING_METHOD = 'vgg'\n",
    "REDUCE_DIM = True"
   ]
  },
  {
   "cell_type": "markdown",
   "metadata": {},
   "source": [
    "**Inpiration for the implementation of logistic regressor**\n",
    "https://atmamani.github.io/projects/ml/mnist-digits-classification-using-logistic-regression-scikit-learn/\n",
    "\n",
    "**Inspiration for implementation of XGBoost**\n",
    "https://gist.github.com/pb111/cc341409081dffa5e9eaf60d79562a03 "
   ]
  },
  {
   "cell_type": "markdown",
   "metadata": {},
   "source": [
    "## Load Sequence data"
   ]
  },
  {
   "cell_type": "code",
   "execution_count": 260,
   "metadata": {},
   "outputs": [],
   "source": [
    "peptide_score_file = './data/HLA_B_4002.txt'\n",
    "\n",
    "def load_peptide_data(infile):\n",
    "\n",
    "    peptides = list()\n",
    "    labels = list()\n",
    "\n",
    "    with open(infile) as f:\n",
    "        for line in f:\n",
    "            peptide, score = line.strip().split()\n",
    "            peptides.append(list(peptide))\n",
    "            labels.append(float(score))\n",
    "\n",
    "    return peptides, labels\n",
    "\n",
    "peptides, labels = load_peptide_data(peptide_score_file)"
   ]
  },
  {
   "cell_type": "markdown",
   "metadata": {},
   "source": [
    "## OneHot Encoding"
   ]
  },
  {
   "cell_type": "code",
   "execution_count": 261,
   "metadata": {},
   "outputs": [],
   "source": [
    "def one_hot_encode_peptides(peptides, flatten = True):\n",
    "\n",
    "    flattened_peptides = np.array(peptides).flatten().reshape(-1, 1)\n",
    "\n",
    "    # Initialize the OneHotEncoder\n",
    "    encoder = OneHotEncoder(categories=[list('ACDEFGHIKLMNPQRSTVWY')], sparse_output=False)\n",
    "\n",
    "    # Transform the peptide sequences into a one-hot encoded format\n",
    "    one_hot_encoded = encoder.fit_transform(flattened_peptides)\n",
    "\n",
    "    num_peptides = len(peptides)\n",
    "    \n",
    "    if flatten:\n",
    "        # Reshape back into the original peptide sequence format\n",
    "        one_hot_encoded = one_hot_encoded.reshape(num_peptides, -1)\n",
    "        \n",
    "        return one_hot_encoded\n",
    "\n",
    "    one_hot_encoded = one_hot_encoded.reshape(num_peptides, len(peptides[0]), -1)\n",
    "\n",
    "    return one_hot_encoded"
   ]
  },
  {
   "cell_type": "markdown",
   "metadata": {},
   "source": [
    "## VGG Encoding"
   ]
  },
  {
   "cell_type": "code",
   "execution_count": 262,
   "metadata": {},
   "outputs": [],
   "source": [
    "amino_acid_full_names = {\n",
    "    'A': 'alanine', 'R': 'arginine', 'N': 'asparagine', 'D': 'aspartic_acid', 'C': 'cysteine', \n",
    "    'E': 'glutamic_acid', 'Q': 'glutamine', 'G': 'glycine', 'H': 'histidine', 'I': 'isoleucine', \n",
    "    'L': 'leucine', 'K': 'lysine', 'M': 'methionine', 'F': 'phenylalanine', 'P': 'proline',\n",
    "    'S': 'serine', 'T': 'threonine', 'W': 'tryptophan', 'Y': 'tyrosine', 'V': 'valine'\n",
    "}"
   ]
  },
  {
   "cell_type": "markdown",
   "metadata": {},
   "source": [
    "### Load amino acid depictions"
   ]
  },
  {
   "cell_type": "code",
   "execution_count": 263,
   "metadata": {},
   "outputs": [
    {
     "data": {
      "text/plain": [
       "<torch._C.Generator at 0x1d8fe5d4e90>"
      ]
     },
     "execution_count": 263,
     "metadata": {},
     "output_type": "execute_result"
    }
   ],
   "source": [
    "device = 'cuda' if torch.cuda.is_available() else 'cpu'\n",
    "torch.manual_seed(RANDOM_SEED)"
   ]
  },
  {
   "cell_type": "code",
   "execution_count": 264,
   "metadata": {},
   "outputs": [],
   "source": [
    "#store images in cache to save performance\n",
    "image_cache = {}\n",
    "\n",
    "def load_AA_image(img_path, vgg = True):\n",
    "\n",
    "    if img_path in image_cache:\n",
    "        return image_cache[img_path]\n",
    "    \n",
    "    # Define transformation to do on image\n",
    "    \n",
    "    # Maybe not do it, if vgg is not the method\n",
    "    if vgg:\n",
    "        transform = transforms.Compose([\n",
    "        transforms.Resize((224,224)),\n",
    "        transforms.ToTensor(),\n",
    "        transforms.Normalize(mean=[0.485, 0.456, 0.406], std=[0.229, 0.224, 0.225]),\n",
    "        ])\n",
    "    else:\n",
    "        transform = transforms.Compose([transforms.ToTensor()])\n",
    "\n",
    "    image = Image.open(img_path).convert('RGB')\n",
    "    processed_image = transform(image).unsqueeze(0).to(device)\n",
    "    \n",
    "    image_cache[img_path] = processed_image\n",
    "    \n",
    "    return processed_image"
   ]
  },
  {
   "cell_type": "code",
   "execution_count": 265,
   "metadata": {},
   "outputs": [],
   "source": [
    "def vgg_features(amino_acid_full_names, reduce_dim = True):\n",
    "\n",
    "    # Define VGG model\n",
    "    vgg16_bn = torch.nn.Sequential(   \n",
    "    # Use only the convolutionary part\n",
    "    models.vgg16_bn(pretrained = True).features,\n",
    "    torch.nn.Flatten()\n",
    "    )\n",
    "\n",
    "    vgg16 = vgg16_bn.to(device)\n",
    "    vgg16.eval()\n",
    "\n",
    "    vgg_features = []\n",
    "\n",
    "    for aa in amino_acid_full_names.values():\n",
    "        # load and preprocess\n",
    "        img_path = f'./2Dstruc/{aa}.png'\n",
    "        image = load_AA_image(img_path)\n",
    "\n",
    "        # Disable gradient calculation\n",
    "        with torch.no_grad():\n",
    "            conv_features = vgg16(image)\n",
    "\n",
    "        vgg_features.append(conv_features.cpu().numpy())\n",
    "\n",
    "    vgg_features = np.vstack(vgg_features)\n",
    "\n",
    "    if reduce_dim:\n",
    "\n",
    "        pca = PCA(random_state=42)\n",
    "        vgg_features = pca.fit_transform(vgg_features)\n",
    "        \n",
    "        aa_features_dict = {}\n",
    "        for idx, aa in enumerate(amino_acid_full_names.keys()):\n",
    "            aa_features_dict[aa] = vgg_features[idx, :]\n",
    "\n",
    "        return aa_features_dict, pca\n",
    "\n",
    "    # Create dictionary with aa_name:PCA_feature\n",
    "    aa_features_dict = {}\n",
    "    for idx, aa in enumerate(amino_acid_full_names.keys()):\n",
    "        aa_features_dict[aa] = vgg_features[idx, :]\n",
    "\n",
    "    return aa_features_dict"
   ]
  },
  {
   "cell_type": "markdown",
   "metadata": {},
   "source": [
    "## Encode pepetides"
   ]
  },
  {
   "cell_type": "code",
   "execution_count": 266,
   "metadata": {},
   "outputs": [],
   "source": [
    "def Encoder(peptides, aa_features_dict, flatten = True):\n",
    "    \n",
    "    encoded_peptides = []\n",
    "\n",
    "    for peptide in peptides:\n",
    "        encoded_peptide = []\n",
    "    \n",
    "        for aa in peptide:\n",
    "            encoded_peptide.append(aa_features_dict[aa])\n",
    "        \n",
    "        if flatten:\n",
    "            encoded_peptide = np.array(encoded_peptide).flatten()\n",
    "        \n",
    "        encoded_peptides.append(encoded_peptide)\n",
    "\n",
    "    return np.array(encoded_peptides)"
   ]
  },
  {
   "cell_type": "code",
   "execution_count": 267,
   "metadata": {},
   "outputs": [
    {
     "name": "stderr",
     "output_type": "stream",
     "text": [
      "C:\\Users\\Chuan\\AppData\\Local\\Packages\\PythonSoftwareFoundation.Python.3.11_qbz5n2kfra8p0\\LocalCache\\local-packages\\Python311\\site-packages\\torchvision\\models\\_utils.py:208: UserWarning: The parameter 'pretrained' is deprecated since 0.13 and may be removed in the future, please use 'weights' instead.\n",
      "  warnings.warn(\n",
      "C:\\Users\\Chuan\\AppData\\Local\\Packages\\PythonSoftwareFoundation.Python.3.11_qbz5n2kfra8p0\\LocalCache\\local-packages\\Python311\\site-packages\\torchvision\\models\\_utils.py:223: UserWarning: Arguments other than a weight enum or `None` for 'weights' are deprecated since 0.13 and may be removed in the future. The current behavior is equivalent to passing `weights=VGG16_BN_Weights.IMAGENET1K_V1`. You can also use `weights=VGG16_BN_Weights.DEFAULT` to get the most up-to-date weights.\n",
      "  warnings.warn(msg)\n"
     ]
    }
   ],
   "source": [
    "# Encode method\n",
    "if ENCODING_METHOD == 'onehot':\n",
    "    encoded_peptides = one_hot_encode_peptides(peptides)\n",
    "\n",
    "elif ENCODING_METHOD == 'vgg':\n",
    "    if REDUCE_DIM:\n",
    "        aa_feature_dict, pca = vgg_features(amino_acid_full_names, reduce_dim=REDUCE_DIM)\n",
    "    else:   \n",
    "        aa_feature_dict = vgg_features(amino_acid_full_names, reduce_dim=REDUCE_DIM)\n",
    "\n",
    "    encoded_peptides = Encoder(peptides, aa_feature_dict)"
   ]
  },
  {
   "cell_type": "markdown",
   "metadata": {},
   "source": [
    "## Split Data"
   ]
  },
  {
   "cell_type": "code",
   "execution_count": 268,
   "metadata": {},
   "outputs": [],
   "source": [
    "X_train, X_test, y_train, y_test = train_test_split(encoded_peptides, labels, test_size=0.3, random_state=RANDOM_SEED)\n",
    "kfold = StratifiedKFold(n_splits=CV_FOLD, shuffle=True, random_state=RANDOM_SEED)"
   ]
  },
  {
   "cell_type": "markdown",
   "metadata": {},
   "source": [
    "## Logistic classifier"
   ]
  },
  {
   "cell_type": "code",
   "execution_count": 269,
   "metadata": {},
   "outputs": [
    {
     "name": "stdout",
     "output_type": "stream",
     "text": [
      "Fold 1/5\n",
      "Fitting 5 folds for each of 40 candidates, totalling 200 fits\n",
      "Accuracy: 0.9591\n",
      "Fold 2/5\n",
      "Fitting 5 folds for each of 40 candidates, totalling 200 fits\n",
      "Accuracy: 0.9540\n",
      "Fold 3/5\n",
      "Fitting 5 folds for each of 40 candidates, totalling 200 fits\n",
      "Accuracy: 0.9540\n",
      "Fold 4/5\n",
      "Fitting 5 folds for each of 40 candidates, totalling 200 fits\n",
      "Accuracy: 0.9526\n",
      "Fold 5/5\n",
      "Fitting 5 folds for each of 40 candidates, totalling 200 fits\n",
      "Accuracy: 0.9564\n"
     ]
    },
    {
     "data": {
      "text/html": [
       "<style>#sk-container-id-14 {color: black;background-color: white;}#sk-container-id-14 pre{padding: 0;}#sk-container-id-14 div.sk-toggleable {background-color: white;}#sk-container-id-14 label.sk-toggleable__label {cursor: pointer;display: block;width: 100%;margin-bottom: 0;padding: 0.3em;box-sizing: border-box;text-align: center;}#sk-container-id-14 label.sk-toggleable__label-arrow:before {content: \"▸\";float: left;margin-right: 0.25em;color: #696969;}#sk-container-id-14 label.sk-toggleable__label-arrow:hover:before {color: black;}#sk-container-id-14 div.sk-estimator:hover label.sk-toggleable__label-arrow:before {color: black;}#sk-container-id-14 div.sk-toggleable__content {max-height: 0;max-width: 0;overflow: hidden;text-align: left;background-color: #f0f8ff;}#sk-container-id-14 div.sk-toggleable__content pre {margin: 0.2em;color: black;border-radius: 0.25em;background-color: #f0f8ff;}#sk-container-id-14 input.sk-toggleable__control:checked~div.sk-toggleable__content {max-height: 200px;max-width: 100%;overflow: auto;}#sk-container-id-14 input.sk-toggleable__control:checked~label.sk-toggleable__label-arrow:before {content: \"▾\";}#sk-container-id-14 div.sk-estimator input.sk-toggleable__control:checked~label.sk-toggleable__label {background-color: #d4ebff;}#sk-container-id-14 div.sk-label input.sk-toggleable__control:checked~label.sk-toggleable__label {background-color: #d4ebff;}#sk-container-id-14 input.sk-hidden--visually {border: 0;clip: rect(1px 1px 1px 1px);clip: rect(1px, 1px, 1px, 1px);height: 1px;margin: -1px;overflow: hidden;padding: 0;position: absolute;width: 1px;}#sk-container-id-14 div.sk-estimator {font-family: monospace;background-color: #f0f8ff;border: 1px dotted black;border-radius: 0.25em;box-sizing: border-box;margin-bottom: 0.5em;}#sk-container-id-14 div.sk-estimator:hover {background-color: #d4ebff;}#sk-container-id-14 div.sk-parallel-item::after {content: \"\";width: 100%;border-bottom: 1px solid gray;flex-grow: 1;}#sk-container-id-14 div.sk-label:hover label.sk-toggleable__label {background-color: #d4ebff;}#sk-container-id-14 div.sk-serial::before {content: \"\";position: absolute;border-left: 1px solid gray;box-sizing: border-box;top: 0;bottom: 0;left: 50%;z-index: 0;}#sk-container-id-14 div.sk-serial {display: flex;flex-direction: column;align-items: center;background-color: white;padding-right: 0.2em;padding-left: 0.2em;position: relative;}#sk-container-id-14 div.sk-item {position: relative;z-index: 1;}#sk-container-id-14 div.sk-parallel {display: flex;align-items: stretch;justify-content: center;background-color: white;position: relative;}#sk-container-id-14 div.sk-item::before, #sk-container-id-14 div.sk-parallel-item::before {content: \"\";position: absolute;border-left: 1px solid gray;box-sizing: border-box;top: 0;bottom: 0;left: 50%;z-index: -1;}#sk-container-id-14 div.sk-parallel-item {display: flex;flex-direction: column;z-index: 1;position: relative;background-color: white;}#sk-container-id-14 div.sk-parallel-item:first-child::after {align-self: flex-end;width: 50%;}#sk-container-id-14 div.sk-parallel-item:last-child::after {align-self: flex-start;width: 50%;}#sk-container-id-14 div.sk-parallel-item:only-child::after {width: 0;}#sk-container-id-14 div.sk-dashed-wrapped {border: 1px dashed gray;margin: 0 0.4em 0.5em 0.4em;box-sizing: border-box;padding-bottom: 0.4em;background-color: white;}#sk-container-id-14 div.sk-label label {font-family: monospace;font-weight: bold;display: inline-block;line-height: 1.2em;}#sk-container-id-14 div.sk-label-container {text-align: center;}#sk-container-id-14 div.sk-container {/* jupyter's `normalize.less` sets `[hidden] { display: none; }` but bootstrap.min.css set `[hidden] { display: none !important; }` so we also need the `!important` here to be able to override the default hidden behavior on the sphinx rendered scikit-learn.org. See: https://github.com/scikit-learn/scikit-learn/issues/21755 */display: inline-block !important;position: relative;}#sk-container-id-14 div.sk-text-repr-fallback {display: none;}</style><div id=\"sk-container-id-14\" class=\"sk-top-container\"><div class=\"sk-text-repr-fallback\"><pre>VotingClassifier(estimators=[(&#x27;clf0&#x27;,\n",
       "                              LogisticRegression(C=0.1, max_iter=10000,\n",
       "                                                 penalty=&#x27;l1&#x27;, random_state=42,\n",
       "                                                 solver=&#x27;liblinear&#x27;)),\n",
       "                             (&#x27;clf1&#x27;,\n",
       "                              LogisticRegression(C=0.1, max_iter=10000,\n",
       "                                                 penalty=&#x27;l1&#x27;, random_state=42,\n",
       "                                                 solver=&#x27;liblinear&#x27;)),\n",
       "                             (&#x27;clf2&#x27;,\n",
       "                              LogisticRegression(C=0.1, max_iter=10000,\n",
       "                                                 penalty=&#x27;l1&#x27;, random_state=42,\n",
       "                                                 solver=&#x27;liblinear&#x27;)),\n",
       "                             (&#x27;clf3&#x27;,\n",
       "                              LogisticRegression(C=0.1, max_iter=10000,\n",
       "                                                 penalty=&#x27;l1&#x27;, random_state=42,\n",
       "                                                 solver=&#x27;liblinear&#x27;)),\n",
       "                             (&#x27;clf4&#x27;,\n",
       "                              LogisticRegression(C=0.01, max_iter=10000,\n",
       "                                                 random_state=42,\n",
       "                                                 solver=&#x27;saga&#x27;))],\n",
       "                 voting=&#x27;soft&#x27;)</pre><b>In a Jupyter environment, please rerun this cell to show the HTML representation or trust the notebook. <br />On GitHub, the HTML representation is unable to render, please try loading this page with nbviewer.org.</b></div><div class=\"sk-container\" hidden><div class=\"sk-item sk-dashed-wrapped\"><div class=\"sk-label-container\"><div class=\"sk-label sk-toggleable\"><input class=\"sk-toggleable__control sk-hidden--visually\" id=\"sk-estimator-id-49\" type=\"checkbox\" ><label for=\"sk-estimator-id-49\" class=\"sk-toggleable__label sk-toggleable__label-arrow\">VotingClassifier</label><div class=\"sk-toggleable__content\"><pre>VotingClassifier(estimators=[(&#x27;clf0&#x27;,\n",
       "                              LogisticRegression(C=0.1, max_iter=10000,\n",
       "                                                 penalty=&#x27;l1&#x27;, random_state=42,\n",
       "                                                 solver=&#x27;liblinear&#x27;)),\n",
       "                             (&#x27;clf1&#x27;,\n",
       "                              LogisticRegression(C=0.1, max_iter=10000,\n",
       "                                                 penalty=&#x27;l1&#x27;, random_state=42,\n",
       "                                                 solver=&#x27;liblinear&#x27;)),\n",
       "                             (&#x27;clf2&#x27;,\n",
       "                              LogisticRegression(C=0.1, max_iter=10000,\n",
       "                                                 penalty=&#x27;l1&#x27;, random_state=42,\n",
       "                                                 solver=&#x27;liblinear&#x27;)),\n",
       "                             (&#x27;clf3&#x27;,\n",
       "                              LogisticRegression(C=0.1, max_iter=10000,\n",
       "                                                 penalty=&#x27;l1&#x27;, random_state=42,\n",
       "                                                 solver=&#x27;liblinear&#x27;)),\n",
       "                             (&#x27;clf4&#x27;,\n",
       "                              LogisticRegression(C=0.01, max_iter=10000,\n",
       "                                                 random_state=42,\n",
       "                                                 solver=&#x27;saga&#x27;))],\n",
       "                 voting=&#x27;soft&#x27;)</pre></div></div></div><div class=\"sk-parallel\"><div class=\"sk-parallel-item\"><div class=\"sk-item\"><div class=\"sk-label-container\"><div class=\"sk-label sk-toggleable\"><label>clf0</label></div></div><div class=\"sk-serial\"><div class=\"sk-item\"><div class=\"sk-estimator sk-toggleable\"><input class=\"sk-toggleable__control sk-hidden--visually\" id=\"sk-estimator-id-50\" type=\"checkbox\" ><label for=\"sk-estimator-id-50\" class=\"sk-toggleable__label sk-toggleable__label-arrow\">LogisticRegression</label><div class=\"sk-toggleable__content\"><pre>LogisticRegression(C=0.1, max_iter=10000, penalty=&#x27;l1&#x27;, random_state=42,\n",
       "                   solver=&#x27;liblinear&#x27;)</pre></div></div></div></div></div></div><div class=\"sk-parallel-item\"><div class=\"sk-item\"><div class=\"sk-label-container\"><div class=\"sk-label sk-toggleable\"><label>clf1</label></div></div><div class=\"sk-serial\"><div class=\"sk-item\"><div class=\"sk-estimator sk-toggleable\"><input class=\"sk-toggleable__control sk-hidden--visually\" id=\"sk-estimator-id-51\" type=\"checkbox\" ><label for=\"sk-estimator-id-51\" class=\"sk-toggleable__label sk-toggleable__label-arrow\">LogisticRegression</label><div class=\"sk-toggleable__content\"><pre>LogisticRegression(C=0.1, max_iter=10000, penalty=&#x27;l1&#x27;, random_state=42,\n",
       "                   solver=&#x27;liblinear&#x27;)</pre></div></div></div></div></div></div><div class=\"sk-parallel-item\"><div class=\"sk-item\"><div class=\"sk-label-container\"><div class=\"sk-label sk-toggleable\"><label>clf2</label></div></div><div class=\"sk-serial\"><div class=\"sk-item\"><div class=\"sk-estimator sk-toggleable\"><input class=\"sk-toggleable__control sk-hidden--visually\" id=\"sk-estimator-id-52\" type=\"checkbox\" ><label for=\"sk-estimator-id-52\" class=\"sk-toggleable__label sk-toggleable__label-arrow\">LogisticRegression</label><div class=\"sk-toggleable__content\"><pre>LogisticRegression(C=0.1, max_iter=10000, penalty=&#x27;l1&#x27;, random_state=42,\n",
       "                   solver=&#x27;liblinear&#x27;)</pre></div></div></div></div></div></div><div class=\"sk-parallel-item\"><div class=\"sk-item\"><div class=\"sk-label-container\"><div class=\"sk-label sk-toggleable\"><label>clf3</label></div></div><div class=\"sk-serial\"><div class=\"sk-item\"><div class=\"sk-estimator sk-toggleable\"><input class=\"sk-toggleable__control sk-hidden--visually\" id=\"sk-estimator-id-53\" type=\"checkbox\" ><label for=\"sk-estimator-id-53\" class=\"sk-toggleable__label sk-toggleable__label-arrow\">LogisticRegression</label><div class=\"sk-toggleable__content\"><pre>LogisticRegression(C=0.1, max_iter=10000, penalty=&#x27;l1&#x27;, random_state=42,\n",
       "                   solver=&#x27;liblinear&#x27;)</pre></div></div></div></div></div></div><div class=\"sk-parallel-item\"><div class=\"sk-item\"><div class=\"sk-label-container\"><div class=\"sk-label sk-toggleable\"><label>clf4</label></div></div><div class=\"sk-serial\"><div class=\"sk-item\"><div class=\"sk-estimator sk-toggleable\"><input class=\"sk-toggleable__control sk-hidden--visually\" id=\"sk-estimator-id-54\" type=\"checkbox\" ><label for=\"sk-estimator-id-54\" class=\"sk-toggleable__label sk-toggleable__label-arrow\">LogisticRegression</label><div class=\"sk-toggleable__content\"><pre>LogisticRegression(C=0.01, max_iter=10000, random_state=42, solver=&#x27;saga&#x27;)</pre></div></div></div></div></div></div></div></div></div></div>"
      ],
      "text/plain": [
       "VotingClassifier(estimators=[('clf0',\n",
       "                              LogisticRegression(C=0.1, max_iter=10000,\n",
       "                                                 penalty='l1', random_state=42,\n",
       "                                                 solver='liblinear')),\n",
       "                             ('clf1',\n",
       "                              LogisticRegression(C=0.1, max_iter=10000,\n",
       "                                                 penalty='l1', random_state=42,\n",
       "                                                 solver='liblinear')),\n",
       "                             ('clf2',\n",
       "                              LogisticRegression(C=0.1, max_iter=10000,\n",
       "                                                 penalty='l1', random_state=42,\n",
       "                                                 solver='liblinear')),\n",
       "                             ('clf3',\n",
       "                              LogisticRegression(C=0.1, max_iter=10000,\n",
       "                                                 penalty='l1', random_state=42,\n",
       "                                                 solver='liblinear')),\n",
       "                             ('clf4',\n",
       "                              LogisticRegression(C=0.01, max_iter=10000,\n",
       "                                                 random_state=42,\n",
       "                                                 solver='saga'))],\n",
       "                 voting='soft')"
      ]
     },
     "execution_count": 269,
     "metadata": {},
     "output_type": "execute_result"
    }
   ],
   "source": [
    "# Define the parameter grid\n",
    "param_grid = {\n",
    "'C': [0.01, 0.1, 1, 10, 100],\n",
    "'penalty': ['l1', 'l2'],\n",
    "'solver': ['liblinear', 'saga'],\n",
    "'class_weight': [None, 'balanced'],\n",
    "}\n",
    "\n",
    "model = LogisticRegression(max_iter=MAX_ITER, random_state=RANDOM_SEED)\n",
    "\n",
    "gridCV = GridSearchCV(model, param_grid, cv=CV_FOLD, n_jobs=4, verbose=1)\n",
    "\n",
    "best_log_clf = []\n",
    "\n",
    "for i, (train_idx, test_idx) in enumerate(kfold.split(X_train, y_train), 1):\n",
    "    print(f'Fold {i}/{CV_FOLD}')\n",
    "\n",
    "    gridCV.fit(X_train[train_idx], np.array(y_train)[train_idx])\n",
    "\n",
    "    best_log_clf.append(gridCV.best_estimator_)\n",
    "\n",
    "    print(f'Accuracy: {gridCV.best_score_:.4f}')    \n",
    "\n",
    "# Voting classifier\n",
    "ensembl_clf = VotingClassifier(estimators=[('clf'+str(i), clf) for i, clf in enumerate(best_log_clf)], voting='soft')\n",
    "ensembl_clf.fit(X_train, y_train)"
   ]
  },
  {
   "cell_type": "code",
   "execution_count": 270,
   "metadata": {},
   "outputs": [
    {
     "name": "stdout",
     "output_type": "stream",
     "text": [
      "              precision    recall  f1-score   support\n",
      "\n",
      "         0.0     0.9736    0.9808    0.9772       939\n",
      "         1.0     0.9135    0.8837    0.8983       215\n",
      "\n",
      "    accuracy                         0.9627      1154\n",
      "   macro avg     0.9435    0.9323    0.9378      1154\n",
      "weighted avg     0.9624    0.9627    0.9625      1154\n",
      "\n"
     ]
    }
   ],
   "source": [
    "y_pred = ensembl_clf.predict(X_test)\n",
    "log_report = classification_report(y_test, y_pred, digits=4)\n",
    "print(log_report)"
   ]
  },
  {
   "cell_type": "markdown",
   "metadata": {},
   "source": [
    "## XGBoost"
   ]
  },
  {
   "cell_type": "code",
   "execution_count": 271,
   "metadata": {},
   "outputs": [
    {
     "name": "stdout",
     "output_type": "stream",
     "text": [
      "Fitting 5 folds for each of 81 candidates, totalling 405 fits\n",
      "              precision    recall  f1-score   support\n",
      "\n",
      "         0.0     0.9725    0.9798    0.9761       939\n",
      "         1.0     0.9087    0.8791    0.8936       215\n",
      "\n",
      "    accuracy                         0.9610      1154\n",
      "   macro avg     0.9406    0.9294    0.9349      1154\n",
      "weighted avg     0.9606    0.9610    0.9608      1154\n",
      "\n"
     ]
    }
   ],
   "source": [
    "# Parameter grid\n",
    "param_grid = {\n",
    "    'objective':['binary:logistic'],\n",
    "    'max_depth': [3, 4, 5],\n",
    "    'learning_rate': [0.1, 0.01, 0.001],\n",
    "    'n_estimators': [50, 100, 200],\n",
    "    'alpha': [0, 10, 20]\n",
    "}\n",
    "\n",
    "model = XGBClassifier(random_state = RANDOM_SEED)\n",
    "\n",
    "# Perform grid search\n",
    "grid_search = GridSearchCV(model, param_grid, cv=CV_FOLD, n_jobs=4, verbose=1)\n",
    "grid_search.fit(X_train, y_train)\n",
    "best_xgb_clf = grid_search.best_estimator_\n",
    "\n",
    "y_pred = best_xgb_clf.predict(X_test)\n",
    "xgb_report = classification_report(y_test, y_pred, digits=4)\n",
    "print(xgb_report)\n"
   ]
  },
  {
   "cell_type": "markdown",
   "metadata": {},
   "source": [
    "## Plot ROC"
   ]
  },
  {
   "cell_type": "code",
   "execution_count": 273,
   "metadata": {},
   "outputs": [
    {
     "name": "stdout",
     "output_type": "stream",
     "text": [
      "Average precision score ensembl logistic: 0.94292\n",
      "Average precision score xgb: 0.95089\n"
     ]
    },
    {
     "data": {
      "image/png": "[encoded data removed]",
      "text/plain": [
       "<Figure size 640x480 with 1 Axes>"
      ]
     },
     "metadata": {},
     "output_type": "display_data"
    }
   ],
   "source": [
    "plt.figure()\n",
    "plt.plot([0, 1], [0, 1], color='k', lw=2, linestyle='--', label='random')\n",
    "\n",
    "for name, clf in {'ensembl logistic': ensembl_clf, 'xgb': best_xgb_clf}.items(): \n",
    "    y_prob = clf.predict_proba(X_test)[::,1]\n",
    "    print(f'Average precision score {name}: {average_precision_score(y_test, y_prob):.5f}')\n",
    "\n",
    "    fpr, tpr, _ = roc_curve(y_test, y_prob)\n",
    "    auc_score = auc(fpr, tpr)\n",
    "    plt.plot(fpr, tpr, lw=2, label=f'{name} AUC: {auc_score:.3f}')\n",
    "\n",
    "\n",
    "plt.xlabel('False Positive Rate')\n",
    "plt.ylabel('True Positive Rate')\n",
    "plt.title('ROC curve, Machine Learning Models')\n",
    "plt.legend(loc=\"lower right\");"
   ]
  }
 ],
 "metadata": {
  "kernelspec": {
   "display_name": "Python 3",
   "language": "python",
   "name": "python3"
  },
  "language_info": {
   "codemirror_mode": {
    "name": "ipython",
    "version": 3
   },
   "file_extension": ".py",
   "mimetype": "text/x-python",
   "name": "python",
   "nbconvert_exporter": "python",
   "pygments_lexer": "ipython3",
   "version": "3.11.9"
  }
 },
 "nbformat": 4,
 "nbformat_minor": 2
}
