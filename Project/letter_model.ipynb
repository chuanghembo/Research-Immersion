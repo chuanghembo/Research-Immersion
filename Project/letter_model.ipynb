{
 "cells": [
  {
   "cell_type": "markdown",
   "metadata": {},
   "source": [
    "## Load Python Libraries"
   ]
  },
  {
   "cell_type": "code",
   "execution_count": 132,
   "metadata": {},
   "outputs": [],
   "source": [
    "import torch\n",
    "from torchvision import transforms\n",
    "import torchvision.models as models\n",
    "from torch import optim\n",
    "from torch.utils.data import DataLoader, TensorDataset, ConcatDataset, Subset, SubsetRandomSampler\n",
    "\n",
    "import numpy as np\n",
    "import matplotlib.pyplot as plt\n",
    "import pandas as pd\n",
    "\n",
    "from sklearn.preprocessing import OneHotEncoder\n",
    "from sklearn.model_selection import KFold\n",
    "from sklearn.decomposition import PCA\n",
    "\n",
    "from scipy.stats import pearsonr\n",
    "from PIL import Image"
   ]
  },
  {
   "cell_type": "markdown",
   "metadata": {},
   "source": [
    "## Defining the model"
   ]
  },
  {
   "cell_type": "code",
   "execution_count": 133,
   "metadata": {},
   "outputs": [],
   "source": [
    "# Define model\n",
    "class Linear_NN(torch.nn.Module):\n",
    "\n",
    "    # 180 is given from the one-hot encoding of the 20 amino acids * 9 peptide length\n",
    "    def __init__(self, input_size):\n",
    "        super(Linear_NN, self).__init__()\n",
    "        self.fc1 = torch.nn.Linear(input_size, input_size // 2)\n",
    "        self.fc2 = torch.nn.Linear(input_size//2, input_size // 10)\n",
    "        self.fc3 = torch.nn.Linear(input_size//10, 1)\n",
    "        self.drop = torch.nn.Dropout(p=0.5)\n",
    "    \n",
    "    def forward(self, x):\n",
    "        x = torch.nn.functional.relu(self.fc1(x))\n",
    "        x = torch.nn.functional.relu(self.fc2(x))\n",
    "        x = self.drop(x)\n",
    "        out = self.fc3(x)\n",
    "        return out\n",
    "\n",
    "# Initialize model\n",
    "device = torch.device('cuda' if torch.cuda.is_available() else 'cpu')"
   ]
  },
  {
   "cell_type": "markdown",
   "metadata": {},
   "source": [
    "## Get a list of peptides"
   ]
  },
  {
   "cell_type": "code",
   "execution_count": 134,
   "metadata": {},
   "outputs": [],
   "source": [
    "peptide_score_file = './data/training_peptide_PSSM_scores.txt'\n",
    "\n",
    "def load_peptide_data(infile):\n",
    "\n",
    "    peptides = list()\n",
    "    PSSM_score = list()\n",
    "\n",
    "    with open(infile) as f:\n",
    "        for line in f:\n",
    "            peptide, score = line.strip().split()\n",
    "            peptides.append(list(peptide))\n",
    "            PSSM_score.append(float(score))\n",
    "\n",
    "    return peptides, PSSM_score\n",
    "\n",
    "peptides, PSSM_score = load_peptide_data(peptide_score_file)"
   ]
  },
  {
   "cell_type": "markdown",
   "metadata": {},
   "source": [
    "## One-hot encoding of the pepetides"
   ]
  },
  {
   "cell_type": "code",
   "execution_count": 135,
   "metadata": {},
   "outputs": [],
   "source": [
    "def one_hot_encode_peptides(peptides):\n",
    "\n",
    "    flattened_peptides = np.array(peptides).flatten().reshape(-1, 1)\n",
    "\n",
    "    # Initialize the OneHotEncoder\n",
    "    encoder = OneHotEncoder(categories=[list('ACDEFGHIKLMNPQRSTVWY')], sparse_output=False)\n",
    "\n",
    "    # Transform the peptide sequences into a one-hot encoded format\n",
    "    one_hot_encoded = encoder.fit_transform(flattened_peptides)\n",
    "\n",
    "    # Reshape back into the original peptide sequence format\n",
    "    num_peptides = len(peptides)\n",
    "    peptide_length = len(peptides[0])\n",
    "    one_hot_encoded_peptides = one_hot_encoded.reshape(num_peptides, peptide_length, -1)\n",
    "\n",
    "    return one_hot_encoded_peptides"
   ]
  },
  {
   "cell_type": "markdown",
   "metadata": {},
   "source": [
    "## PCA-reduced Pixel encoding"
   ]
  },
  {
   "cell_type": "code",
   "execution_count": 136,
   "metadata": {},
   "outputs": [],
   "source": [
    "amino_acid_full_names = {\n",
    "    'A': 'alanine', 'R': 'arginine', 'N': 'asparagine', 'D': 'aspartic_acid', 'C': 'cysteine', \n",
    "    'E': 'glutamic_acid', 'Q': 'glutamine', 'G': 'glycine', 'H': 'histidine', 'I': 'isoleucine', \n",
    "    'L': 'leucine', 'K': 'lysine', 'M': 'methionine', 'F': 'phenylalanine', 'P': 'proline',\n",
    "    'S': 'serine', 'T': 'threonine', 'W': 'tryptophan', 'Y': 'tyrosine', 'V': 'valine'\n",
    "}"
   ]
  },
  {
   "cell_type": "markdown",
   "metadata": {},
   "source": [
    "### Load amino acid depictions"
   ]
  },
  {
   "cell_type": "code",
   "execution_count": 137,
   "metadata": {},
   "outputs": [],
   "source": [
    "#store images in cache to save performance\n",
    "image_cache = {}\n",
    "\n",
    "def load_AA_image(img_path):\n",
    "\n",
    "    if img_path in image_cache:\n",
    "        return image_cache[img_path]\n",
    "    \n",
    "    # Define transformation to do on image\n",
    "    transform = transforms.Compose([\n",
    "        transforms.Resize((224,224)),\n",
    "        transforms.ToTensor(),\n",
    "        transforms.Normalize(mean=[0.485, 0.456, 0.406], std=[0.229, 0.224, 0.225]),\n",
    "        ])\n",
    "    \n",
    "    image = Image.open(img_path).convert('RGB')\n",
    "    processed_image = transform(image).unsqueeze(0).to(device)\n",
    "    \n",
    "    image_cache[img_path] = processed_image\n",
    "    \n",
    "    return processed_image"
   ]
  },
  {
   "cell_type": "markdown",
   "metadata": {},
   "source": [
    "## PCA pixel feature extraction"
   ]
  },
  {
   "cell_type": "code",
   "execution_count": 138,
   "metadata": {},
   "outputs": [],
   "source": [
    "def PCA_pixel_features(amino_acid_full_names):\n",
    "    \n",
    "    pixel_features = []\n",
    "\n",
    "    for letter, aa in amino_acid_full_names.items():\n",
    "        # load and preprocess\n",
    "        img_path = f'./2Dstruc/{aa}.png'\n",
    "        image = load_AA_image(img_path)\n",
    "        pixel_features.append(image.flatten())\n",
    "\n",
    "    pixel_features = np.vstack(pixel_features)\n",
    "\n",
    "    # PCA\n",
    "    pca = PCA()\n",
    "    pca_pixel_features = pca.fit_transform(pixel_features)\n",
    "\n",
    "    # Create dictionary with aa_name:PCA_feature\n",
    "    aa_features_dict = {}\n",
    "    for idx, aa in enumerate(amino_acid_full_names.keys()):\n",
    "        aa_features_dict[aa] = pca_pixel_features[idx, :]\n",
    "\n",
    "    return aa_features_dict, pca"
   ]
  },
  {
   "cell_type": "code",
   "execution_count": 139,
   "metadata": {},
   "outputs": [],
   "source": [
    "def plot_PCA_variance(pca, cumulative=True):\n",
    "    # Assuming you have already performed PCA and stored it in the variable 'pca'\n",
    "    variance_ratio = pca.explained_variance_ratio_\n",
    "\n",
    "    if cumulative:\n",
    "        cumulative_variance = np.cumsum(variance_ratio)\n",
    "        plt.plot(range(1, len(cumulative_variance)+1), cumulative_variance, '*-')\n",
    "        plt.xlabel('Number of Components')\n",
    "        plt.ylabel('Cumulative Variance')\n",
    "        plt.title('Cumulative Variance by Number of Components')\n",
    "        plt.show()\n",
    "    else:\n",
    "        plt.bar(range(1, len(variance_ratio)+1), variance_ratio)\n",
    "        plt.xlabel('Number of Components')\n",
    "        plt.ylabel('Variance Ratio')\n",
    "        plt.title('Variance Ratio by Number of Components')\n",
    "        plt.show()\n",
    "    "
   ]
  },
  {
   "cell_type": "markdown",
   "metadata": {},
   "source": [
    "## VGG16 transformation"
   ]
  },
  {
   "cell_type": "code",
   "execution_count": 140,
   "metadata": {},
   "outputs": [],
   "source": [
    "def vgg_features(amino_acid_full_names):\n",
    "\n",
    "    # Define VGG model\n",
    "    vgg16_bn = torch.nn.Sequential(   \n",
    "    # Use only the convolutionary part\n",
    "    models.vgg16_bn(pretrained = True).features,\n",
    "    torch.nn.Flatten()\n",
    "    )\n",
    "\n",
    "    vgg16 = vgg16_bn.to(device)\n",
    "    vgg16.eval()\n",
    "\n",
    "    vgg_features = []\n",
    "\n",
    "    for aa in amino_acid_full_names.values():\n",
    "        # load and preprocess\n",
    "        img_path = f'./2Dstruc/{aa}.png'\n",
    "        image = load_AA_image(img_path)\n",
    "\n",
    "        # Disable gradient calculation\n",
    "        with torch.no_grad():\n",
    "            conv_features = vgg16(image)\n",
    "\n",
    "        vgg_features.append(conv_features.cpu().numpy())\n",
    "\n",
    "    vgg_features = np.vstack(vgg_features)\n",
    "\n",
    "    # Create dictionary with aa_name:PCA_feature\n",
    "    aa_features_dict = {}\n",
    "    for idx, aa in enumerate(amino_acid_full_names.keys()):\n",
    "        aa_features_dict[aa] = vgg_features[idx, :]\n",
    "\n",
    "    return aa_features_dict"
   ]
  },
  {
   "cell_type": "markdown",
   "metadata": {},
   "source": [
    "## Peptide data encoding"
   ]
  },
  {
   "cell_type": "code",
   "execution_count": 141,
   "metadata": {},
   "outputs": [],
   "source": [
    "def Encoder(peptides, aa_features_dict):\n",
    "    \n",
    "    encoded_peptides = []\n",
    "\n",
    "    for peptide in peptides:\n",
    "        encoded_peptide = []\n",
    "    \n",
    "        for aa in peptide:\n",
    "            encoded_peptide.append(aa_features_dict[aa])\n",
    "        \n",
    "        encoded_peptide = np.array(encoded_peptide).flatten()\n",
    "        encoded_peptides.append(encoded_peptide)\n",
    "\n",
    "    return np.array(encoded_peptides)"
   ]
  },
  {
   "cell_type": "code",
   "execution_count": 142,
   "metadata": {},
   "outputs": [],
   "source": [
    "encoding_method = 'vgg'\n",
    "\n",
    "if encoding_method == 'onehot':\n",
    "    encoded_peptides = one_hot_encode_peptides(peptides)\n",
    "\n",
    "elif encoding_method == 'pca':\n",
    "    \n",
    "    aa_feature_dict, pca = PCA_pixel_features(amino_acid_full_names)\n",
    "    plot_PCA_variance(pca, cumulative=True)\n",
    "    encoded_peptides = Encoder(peptides, aa_feature_dict)\n",
    "\n",
    "elif encoding_method == 'vgg':\n",
    "    aa_feature_dict = vgg_features(amino_acid_full_names)\n",
    "    encoded_peptides = Encoder(peptides, aa_feature_dict)\n",
    "\n",
    "else:\n",
    "    raise ValueError('Invalid encoding method')\n",
    "\n",
    "\n",
    "input_size = encoded_peptides[0].shape[0]"
   ]
  },
  {
   "cell_type": "markdown",
   "metadata": {},
   "source": [
    "## Define function to reset weight\n",
    "Weight resetting aid to prevent the weight leakage"
   ]
  },
  {
   "cell_type": "code",
   "execution_count": 143,
   "metadata": {},
   "outputs": [],
   "source": [
    "def reset_weights(m):\n",
    "    if hasattr(m, 'reset_parameters'):\n",
    "        print(f'reset weight of layer {m}')\n",
    "        m.reset_parameters()"
   ]
  },
  {
   "cell_type": "markdown",
   "metadata": {},
   "source": [
    "### Loss function and optimizer"
   ]
  },
  {
   "cell_type": "code",
   "execution_count": 144,
   "metadata": {},
   "outputs": [],
   "source": [
    "# Define the loss function \n",
    "criterion = torch.nn.MSELoss()"
   ]
  },
  {
   "cell_type": "code",
   "execution_count": 145,
   "metadata": {},
   "outputs": [],
   "source": [
    "peptides_tensor = torch.tensor(encoded_peptides, dtype=torch.float32).to(device)\n",
    "PSSM_score_tensor = torch.tensor(np.asarray(PSSM_score).reshape(-1,1), dtype=torch.float32).to(device)\n",
    "\n",
    "peptides_dataset = TensorDataset(peptides_tensor, PSSM_score_tensor)"
   ]
  },
  {
   "cell_type": "markdown",
   "metadata": {},
   "source": [
    "## Train model"
   ]
  },
  {
   "cell_type": "code",
   "execution_count": 146,
   "metadata": {},
   "outputs": [],
   "source": [
    "def plot_loss(train_loss, val_loss, fold, encoding_method):\n",
    "    plt.figure()\n",
    "    plt.plot(train_loss, label='train err')\n",
    "    plt.plot(val_loss, label='val err')\n",
    "    plt.legend()\n",
    "    plt.yscale('log')\n",
    "    plt.style.use('seaborn-whitegrid')\n",
    "    plt.xlabel('Epoch')\n",
    "    plt.ylabel('Loss')\n",
    "    plt.savefig(f'./loss/{encoding_method}_loss_fold_{fold}.png')\n",
    "    plt.close()"
   ]
  },
  {
   "cell_type": "code",
   "execution_count": 147,
   "metadata": {},
   "outputs": [
    {
     "name": "stdout",
     "output_type": "stream",
     "text": [
      "Starting KFold Cross Validation\n",
      "Fold 1\n"
     ]
    },
    {
     "ename": "RuntimeError",
     "evalue": "[enforce fail at alloc_cpu.cpp:114] data. DefaultCPUAllocator: not enough memory: you tried to allocate 101964054528 bytes.",
     "output_type": "error",
     "traceback": [
      "\u001b[1;31m---------------------------------------------------------------------------\u001b[0m",
      "\u001b[1;31mRuntimeError\u001b[0m                              Traceback (most recent call last)",
      "Cell \u001b[1;32mIn[147], line 20\u001b[0m\n\u001b[0;32m     17\u001b[0m test_loader \u001b[38;5;241m=\u001b[39m DataLoader(peptides_dataset, batch_size\u001b[38;5;241m=\u001b[39m\u001b[38;5;241m10\u001b[39m, sampler\u001b[38;5;241m=\u001b[39mtest_subsampler)\n\u001b[0;32m     19\u001b[0m \u001b[38;5;66;03m# Initialize NN\u001b[39;00m\n\u001b[1;32m---> 20\u001b[0m model \u001b[38;5;241m=\u001b[39m \u001b[43mLinear_NN\u001b[49m\u001b[43m(\u001b[49m\u001b[43minput_size\u001b[49m\u001b[43m)\u001b[49m\u001b[38;5;241m.\u001b[39mto(device)\n\u001b[0;32m     21\u001b[0m model\u001b[38;5;241m.\u001b[39mapply(reset_weights)\n\u001b[0;32m     23\u001b[0m \u001b[38;5;66;03m# Define the optimizer\u001b[39;00m\n",
      "Cell \u001b[1;32mIn[133], line 7\u001b[0m, in \u001b[0;36mLinear_NN.__init__\u001b[1;34m(self, input_size)\u001b[0m\n\u001b[0;32m      5\u001b[0m \u001b[38;5;28;01mdef\u001b[39;00m \u001b[38;5;21m__init__\u001b[39m(\u001b[38;5;28mself\u001b[39m, input_size):\n\u001b[0;32m      6\u001b[0m     \u001b[38;5;28msuper\u001b[39m(Linear_NN, \u001b[38;5;28mself\u001b[39m)\u001b[38;5;241m.\u001b[39m\u001b[38;5;21m__init__\u001b[39m()\n\u001b[1;32m----> 7\u001b[0m     \u001b[38;5;28mself\u001b[39m\u001b[38;5;241m.\u001b[39mfc1 \u001b[38;5;241m=\u001b[39m \u001b[43mtorch\u001b[49m\u001b[38;5;241;43m.\u001b[39;49m\u001b[43mnn\u001b[49m\u001b[38;5;241;43m.\u001b[39;49m\u001b[43mLinear\u001b[49m\u001b[43m(\u001b[49m\u001b[43minput_size\u001b[49m\u001b[43m,\u001b[49m\u001b[43m \u001b[49m\u001b[43minput_size\u001b[49m\u001b[43m \u001b[49m\u001b[38;5;241;43m/\u001b[39;49m\u001b[38;5;241;43m/\u001b[39;49m\u001b[43m \u001b[49m\u001b[38;5;241;43m2\u001b[39;49m\u001b[43m)\u001b[49m\n\u001b[0;32m      8\u001b[0m     \u001b[38;5;28mself\u001b[39m\u001b[38;5;241m.\u001b[39mfc2 \u001b[38;5;241m=\u001b[39m torch\u001b[38;5;241m.\u001b[39mnn\u001b[38;5;241m.\u001b[39mLinear(input_size\u001b[38;5;241m/\u001b[39m\u001b[38;5;241m/\u001b[39m\u001b[38;5;241m2\u001b[39m, input_size \u001b[38;5;241m/\u001b[39m\u001b[38;5;241m/\u001b[39m \u001b[38;5;241m10\u001b[39m)\n\u001b[0;32m      9\u001b[0m     \u001b[38;5;28mself\u001b[39m\u001b[38;5;241m.\u001b[39mfc3 \u001b[38;5;241m=\u001b[39m torch\u001b[38;5;241m.\u001b[39mnn\u001b[38;5;241m.\u001b[39mLinear(input_size\u001b[38;5;241m/\u001b[39m\u001b[38;5;241m/\u001b[39m\u001b[38;5;241m10\u001b[39m, \u001b[38;5;241m1\u001b[39m)\n",
      "File \u001b[1;32m~\\AppData\\Local\\Packages\\PythonSoftwareFoundation.Python.3.11_qbz5n2kfra8p0\\LocalCache\\local-packages\\Python311\\site-packages\\torch\\nn\\modules\\linear.py:98\u001b[0m, in \u001b[0;36mLinear.__init__\u001b[1;34m(self, in_features, out_features, bias, device, dtype)\u001b[0m\n\u001b[0;32m     96\u001b[0m \u001b[38;5;28mself\u001b[39m\u001b[38;5;241m.\u001b[39min_features \u001b[38;5;241m=\u001b[39m in_features\n\u001b[0;32m     97\u001b[0m \u001b[38;5;28mself\u001b[39m\u001b[38;5;241m.\u001b[39mout_features \u001b[38;5;241m=\u001b[39m out_features\n\u001b[1;32m---> 98\u001b[0m \u001b[38;5;28mself\u001b[39m\u001b[38;5;241m.\u001b[39mweight \u001b[38;5;241m=\u001b[39m Parameter(\u001b[43mtorch\u001b[49m\u001b[38;5;241;43m.\u001b[39;49m\u001b[43mempty\u001b[49m\u001b[43m(\u001b[49m\u001b[43m(\u001b[49m\u001b[43mout_features\u001b[49m\u001b[43m,\u001b[49m\u001b[43m \u001b[49m\u001b[43min_features\u001b[49m\u001b[43m)\u001b[49m\u001b[43m,\u001b[49m\u001b[43m \u001b[49m\u001b[38;5;241;43m*\u001b[39;49m\u001b[38;5;241;43m*\u001b[39;49m\u001b[43mfactory_kwargs\u001b[49m\u001b[43m)\u001b[49m)\n\u001b[0;32m     99\u001b[0m \u001b[38;5;28;01mif\u001b[39;00m bias:\n\u001b[0;32m    100\u001b[0m     \u001b[38;5;28mself\u001b[39m\u001b[38;5;241m.\u001b[39mbias \u001b[38;5;241m=\u001b[39m Parameter(torch\u001b[38;5;241m.\u001b[39mempty(out_features, \u001b[38;5;241m*\u001b[39m\u001b[38;5;241m*\u001b[39mfactory_kwargs))\n",
      "\u001b[1;31mRuntimeError\u001b[0m: [enforce fail at alloc_cpu.cpp:114] data. DefaultCPUAllocator: not enough memory: you tried to allocate 101964054528 bytes."
     ]
    }
   ],
   "source": [
    "torch.manual_seed(69)\n",
    "\n",
    "kfold = KFold(n_splits=5, shuffle=True)\n",
    "\n",
    "print(\"Starting KFold Cross Validation\")\n",
    "\n",
    "for fold, (train_ids, test_ids) in enumerate(kfold.split(peptides_dataset), 1):\n",
    "    \n",
    "    print(f'Fold {fold}')\n",
    "\n",
    "    # Shuffle the data\n",
    "    train_subsampler = SubsetRandomSampler(train_ids)\n",
    "    test_subsampler = SubsetRandomSampler(test_ids)\n",
    "\n",
    "    # Define the data loaders\n",
    "    train_loader = DataLoader(peptides_dataset, batch_size=10, sampler=train_subsampler)\n",
    "    test_loader = DataLoader(peptides_dataset, batch_size=10, sampler=test_subsampler)\n",
    "\n",
    "    # Initialize NN\n",
    "    model = Linear_NN(input_size).to(device)\n",
    "    model.apply(reset_weights)\n",
    "\n",
    "    # Define the optimizer\n",
    "    optimizer = optim.Adam(model.parameters(), lr=0.001)\n",
    "    \n",
    "    training_losses = []\n",
    "    validation_losses = []\n",
    "\n",
    "    for epoch in range(0, 100):\n",
    "    \n",
    "            print(f'Epoch {epoch+1}')\n",
    "\n",
    "            training_loss = 0.0\n",
    "\n",
    "            for i, data in enumerate(train_loader):\n",
    "                  \n",
    "                # Get the inputs\n",
    "                inputs, labels = data\n",
    "\n",
    "                # Zero the parameter gradients\n",
    "                optimizer.zero_grad()\n",
    "\n",
    "                # Forward pass\n",
    "                outputs = model(inputs.view(-1, 180))\n",
    "\n",
    "                # Calculate the loss\n",
    "                loss = criterion(outputs, labels)\n",
    "\n",
    "                # Backward pass\n",
    "                loss.backward()\n",
    "\n",
    "                # Optimize\n",
    "                optimizer.step()\n",
    "\n",
    "                training_loss += loss.item()\n",
    "            \n",
    "            with torch.no_grad():\n",
    "                model.eval()\n",
    "                validation_loss = 0.0\n",
    "\n",
    "                for inputs, labels in test_loader:\n",
    "\n",
    "                    outputs = model(inputs.view(-1, 180))\n",
    "                    loss = criterion(outputs, labels)\n",
    "\n",
    "                    validation_loss += loss.item()\n",
    "\n",
    "            training_losses.append(training_loss/len(train_loader))\n",
    "            validation_losses.append(validation_loss/len(test_loader))\n",
    "\n",
    "            print(f'Training loss: {training_loss/len(train_loader)}')\n",
    "            print(f'Validation Loss: {validation_loss/len(test_loader)}')\n",
    "\n",
    "            \n",
    "    # Save the model\n",
    "    print('Finished Training, Saving Model')\n",
    "    torch.save(model.state_dict(), f'./model/{encoding_method}_model_fold_{fold}.pt')\n",
    "\n",
    "    # Plot the loss\n",
    "    plot_loss(training_losses, validation_losses, fold, encoding_method) \n",
    "  \n",
    "    "
   ]
  },
  {
   "cell_type": "markdown",
   "metadata": {},
   "source": [
    "## Evaluating the model with unseen data"
   ]
  },
  {
   "cell_type": "code",
   "execution_count": null,
   "metadata": {},
   "outputs": [
    {
     "name": "stdout",
     "output_type": "stream",
     "text": [
      "Total Loss: 0.20627138018608093\n"
     ]
    }
   ],
   "source": [
    "evaluation_data = './data/evaluation_peptide_PSSM_scores.txt'\n",
    "# evaluation_data = '../data/data/PSSM/A0201.eval'\n",
    "evaluation_peptides, evaluation_score = load_peptide_data(evaluation_data)\n",
    "\n",
    "if encoding_method == 'onehot':\n",
    "    encoded_evaluation_peptides, encoding_method = one_hot_encode_peptides(evaluation_peptides)\n",
    "elif encoding_method == 'pca':\n",
    "    encoded_evaluation_peptides = PCA_pixel_encoding(evaluation_peptides, aa_feature_dict)\n",
    "\n",
    "# Convert to tensors\n",
    "evaluation_peptides_tensor = torch.tensor(encoded_evaluation_peptides, dtype=torch.float32).to(device)\n",
    "evaluation_score_tensor = torch.tensor(np.asarray(evaluation_score).reshape(-1,1), dtype=torch.float32).to(device)\n",
    "\n",
    "evaluation_peptides_dataset = TensorDataset(evaluation_peptides_tensor, evaluation_score_tensor)\n",
    "\n",
    "\n",
    "def evaluate_model(models, evaluation_peptides_dataset):\n",
    "    predictions = []\n",
    "\n",
    "    evaluation_data_loader = DataLoader(evaluation_peptides_dataset, batch_size=10)\n",
    "\n",
    "    with torch.no_grad():\n",
    "        for model in models:\n",
    "            model.eval()\n",
    "            model_predictions = []\n",
    "\n",
    "            for peptides, _ in evaluation_data_loader:\n",
    "                peptides = peptides.to(device)\n",
    "                outputs = model(peptides.view(-1, 180))\n",
    "                model_predictions.extend(outputs.cpu().numpy())\n",
    "\n",
    "            predictions.append(model_predictions)\n",
    "\n",
    "    # Average predictions across models\n",
    "    averaged_predictions = np.mean(predictions, axis=0)\n",
    "\n",
    "    # Calculate total loss\n",
    "    total_loss = criterion(torch.tensor(averaged_predictions, dtype=torch.float32).to(device), evaluation_score_tensor).item()\n",
    "\n",
    "    return averaged_predictions, total_loss\n",
    "\n",
    "# Load models\n",
    "models = []\n",
    "for i in range(1,6):\n",
    "    model = Linear_NN(input_size).to(device)\n",
    "    model.load_state_dict(torch.load(f'./model/{encoding_method}_model_fold_{i}.pt'))\n",
    "    models.append(model)\n",
    "\n",
    "# Test models\n",
    "predictions, total_loss = evaluate_model(models, evaluation_peptides_dataset)\n",
    "\n",
    "print(f'Total Loss: {total_loss}')"
   ]
  },
  {
   "cell_type": "markdown",
   "metadata": {},
   "source": [
    "## Saving evaluation data prediction result"
   ]
  },
  {
   "cell_type": "code",
   "execution_count": null,
   "metadata": {},
   "outputs": [],
   "source": [
    "outfile = f'./evaluation_result/{encoding_method}_evaluation_predictions.txt'\n",
    "\n",
    "with open(outfile, 'w') as f:\n",
    "    print('Peptide      Score      Prediction', file=f)\n",
    "    for peptide, score, prediction in zip(evaluation_peptides, evaluation_score, predictions):\n",
    "        print(f'{\"\".join(peptide):<12} {score:<10.4f} {prediction[0]:<10.4f}', file=f)"
   ]
  },
  {
   "cell_type": "code",
   "execution_count": null,
   "metadata": {},
   "outputs": [
    {
     "name": "stdout",
     "output_type": "stream",
     "text": [
      "PCC:  0.9959040325642986\n"
     ]
    },
    {
     "name": "stderr",
     "output_type": "stream",
     "text": [
      "C:\\Users\\Chuan\\AppData\\Local\\Temp\\ipykernel_23592\\2539975301.py:5: MatplotlibDeprecationWarning: The seaborn styles shipped by Matplotlib are deprecated since 3.6, as they no longer correspond to the styles shipped by seaborn. However, they will remain available as 'seaborn-v0_8-<style>'. Alternatively, directly use the seaborn API instead.\n",
      "  plt.style.use('seaborn-whitegrid');\n"
     ]
    },
    {
     "data": {
      "image/png": "[encoded data removed]",
      "text/plain": [
       "<Figure size 640x480 with 1 Axes>"
      ]
     },
     "metadata": {},
     "output_type": "display_data"
    }
   ],
   "source": [
    "pcc = pearsonr(evaluation_score, np.array(predictions).flatten())\n",
    "print(\"PCC: \", pcc[0])\n",
    "\n",
    "plt.figure()\n",
    "plt.style.use('seaborn-whitegrid');\n",
    "plt.scatter(evaluation_score, predictions, edgecolors='black');\n",
    "plt.xlabel('Target PSSM');\n",
    "plt.ylabel('Predicted PSSM');\n",
    "plt.title(f'Encoding Method: {encoding_method}, PCC: {pcc[0]:.4f}, total loss: {total_loss:.4f}');\n",
    "plt.savefig(f'./evaluation_result/{encoding_method}_evaluation_scatter.png')"
   ]
  }
 ],
 "metadata": {
  "kernelspec": {
   "display_name": "Python 3",
   "language": "python",
   "name": "python3"
  },
  "language_info": {
   "codemirror_mode": {
    "name": "ipython",
    "version": 3
   },
   "file_extension": ".py",
   "mimetype": "text/x-python",
   "name": "python",
   "nbconvert_exporter": "python",
   "pygments_lexer": "ipython3",
   "version": "3.11.9"
  }
 },
 "nbformat": 4,
 "nbformat_minor": 2
}
