{
 "cells": [
  {
   "cell_type": "code",
   "execution_count": 2,
   "metadata": {},
   "outputs": [],
   "source": [
    "import sys\n",
    "import torch\n",
    "import torch.nn as nn\n",
    "import torch.optim as optim\n",
    "import numpy as np\n",
    "from sklearn.model_selection import KFold\n",
    "from scipy.stats import pearsonr\n",
    "import matplotlib.pyplot as plt\n",
    "import os\n",
    "from PIL import Image\n",
    "import torchvision.transforms as transforms"
   ]
  },
  {
   "cell_type": "markdown",
   "metadata": {},
   "source": [
    "**Directories** \n",
    "\n",
    "Load data 'nd stuff"
   ]
  },
  {
   "cell_type": "code",
   "execution_count": 15,
   "metadata": {},
   "outputs": [],
   "source": [
    "data_dir = '../data/'\n",
    "peptides_file = data_dir + \"binding_affinity.txt\"\n",
    "peptides = np.loadtxt(peptides_file, dtype=str).tolist()\n",
    "peptides = [row[1:] for row in peptides if len(row[1]) == 9]\n"
   ]
  },
  {
   "cell_type": "markdown",
   "metadata": {},
   "source": [
    "**One-hot encoding**"
   ]
  },
  {
   "cell_type": "code",
   "execution_count": 4,
   "metadata": {},
   "outputs": [],
   "source": [
    "aa = \"ACDEFGHIKLMNPQRSTVWY\"\n",
    "aa_to_int = dict((c, i) for i, c in enumerate(aa))\n",
    "\n",
    "def encode_peptide(peptide):\n",
    "    encoding = np.zeros((len(peptide), len(aa)))\n",
    "    for i, AA in enumerate(peptide):\n",
    "        encoding[i, aa_to_int[AA]] = 1\n",
    "    return encoding"
   ]
  },
  {
   "cell_type": "markdown",
   "metadata": {},
   "source": [
    "**Load AA depictions**"
   ]
  },
  {
   "cell_type": "code",
   "execution_count": 16,
   "metadata": {},
   "outputs": [],
   "source": [
    "#store images in cache to save performance\n",
    "image_cache = {}\n",
    "# Initialize model\n",
    "device = torch.device('cuda' if torch.cuda.is_available() else 'cpu')\n",
    "\n",
    "def load_AA_image(img_path):\n",
    "\n",
    "    if img_path in image_cache:\n",
    "        return image_cache[img_path]\n",
    "    \n",
    "    # Define transformation to do on image\n",
    "    transform = transforms.Compose([\n",
    "        transforms.Resize((224,224)),\n",
    "        transforms.ToTensor(),\n",
    "        transforms.Normalize(mean=[0.485, 0.456, 0.406], std=[0.229, 0.224, 0.225]),\n",
    "        ])\n",
    "    \n",
    "    image = Image.open(img_path).convert('RGB')\n",
    "    processed_image = transform(image).unsqueeze(0).to(device)\n",
    "    \n",
    "    image_cache[img_path] = processed_image\n",
    "    \n",
    "    return processed_image"
   ]
  },
  {
   "cell_type": "code",
   "execution_count": 17,
   "metadata": {},
   "outputs": [],
   "source": [
    "amino_acid_full_names = {\n",
    "    'A': 'alanine',\n",
    "    'R': 'arginine',\n",
    "    'N': 'asparagine',\n",
    "    'D': 'aspartic_acid',\n",
    "    'C': 'cysteine',\n",
    "    'E': 'glutamic_acid',\n",
    "    'Q': 'glutamine',\n",
    "    'G': 'glycine',\n",
    "    'H': 'histidine',\n",
    "    'I': 'isoleucine',\n",
    "    'L': 'leucine',\n",
    "    'K': 'lysine',\n",
    "    'M': 'methionine',\n",
    "    'F': 'phenylalanine',\n",
    "    'P': 'proline',\n",
    "    'S': 'serine',\n",
    "    'T': 'threonine',\n",
    "    'W': 'tryptophan',\n",
    "    'Y': 'tyrosine',\n",
    "    'V': 'valine'\n",
    "}\n",
    "\n",
    "pixel_features = []\n",
    "\n",
    "for letter, aa in amino_acid_full_names.items():\n",
    "    # load and preprocess\n",
    "    img_path = f'../data/2Dstruc/{aa}.png'\n",
    "    image = load_AA_image(img_path)\n",
    "    pixel_features.append(image.flatten())\n",
    "\n",
    "pixel_features = np.vstack(pixel_features)\n",
    "\n",
    "# PCA\n",
    "#pca = PCA()\n",
    "#pca_pixel_features = pca.fit_transform(pixel_features)\n",
    "\n",
    "# Create dictionary with aa_name:PCA_feature\n",
    "aa_features_dict = {}\n",
    "for idx, aa in enumerate(amino_acid_full_names.keys()):\n",
    "    aa_features_dict[aa] = pixel_features[idx, :]"
   ]
  },
  {
   "cell_type": "markdown",
   "metadata": {},
   "source": [
    "**Data preparation for One hot encoding**"
   ]
  },
  {
   "cell_type": "code",
   "execution_count": null,
   "metadata": {},
   "outputs": [],
   "source": [
    "targets = []\n",
    "encodings = []\n",
    "for peptide, score in peptides:\n",
    "    X = np.array([encode_peptide(amino_acid) for amino_acid in peptide])\n",
    "    score = float(score)\n",
    "    encodings.append(X)\n",
    "    targets.append(float(score))\n",
    "\n",
    "tensor_input = torch.stack([torch.tensor(arr) for arr in encodings])\n",
    "tensor_input = tensor_input.squeeze(dim=2).float()  \n",
    "targets = torch.tensor(targets, dtype=torch.float32).unsqueeze(1)  \n",
    "\n",
    "# Split into training and evaluation sets (80/20 split)\n",
    "eval_size = int(0.2 * len(encodings))\n",
    "train_encodings, eval_encodings = tensor_input[:-eval_size], tensor_input[-eval_size:]\n",
    "train_targets, eval_targets = targets[:-eval_size], targets[-eval_size:]"
   ]
  },
  {
   "cell_type": "code",
   "execution_count": null,
   "metadata": {},
   "outputs": [],
   "source": [
    "targets = []\n",
    "encodings = []\n",
    "for peptide, score in peptides:\n",
    "    X = np.array([aa_features_dict[amino_acid] for amino_acid in peptide])\n",
    "    score = float(score)\n",
    "    encodings.append(X)\n",
    "    targets.append(float(score))\n",
    "\n",
    "tensor_input = torch.stack([torch.tensor(arr) for arr in encodings])\n",
    "tensor_input = tensor_input.squeeze(dim=2).float()  \n",
    "targets = torch.tensor(targets, dtype=torch.float32).unsqueeze(1)  \n",
    "\n",
    "# Split into training and evaluation sets (80/20 split)\n",
    "eval_size = int(0.2 * len(encodings))\n",
    "train_encodings, eval_encodings = tensor_input[:-eval_size], tensor_input[-eval_size:]\n",
    "train_targets, eval_targets = targets[:-eval_size], targets[-eval_size:]"
   ]
  }
 ],
 "metadata": {
  "kernelspec": {
   "display_name": "base",
   "language": "python",
   "name": "python3"
  },
  "language_info": {
   "codemirror_mode": {
    "name": "ipython",
    "version": 3
   },
   "file_extension": ".py",
   "mimetype": "text/x-python",
   "name": "python",
   "nbconvert_exporter": "python",
   "pygments_lexer": "ipython3",
   "version": "3.11.5"
  }
 },
 "nbformat": 4,
 "nbformat_minor": 2
}
