{
 "cells": [
  {
   "cell_type": "code",
   "execution_count": 1,
   "metadata": {},
   "outputs": [],
   "source": [
    "import sys\n",
    "import torch\n",
    "import torch.nn as nn\n",
    "import torch.optim as optim\n",
    "import numpy as np\n",
    "from sklearn.model_selection import KFold\n",
    "from scipy.stats import pearsonr\n",
    "import matplotlib.pyplot as plt\n",
    "import os"
   ]
  },
  {
   "cell_type": "markdown",
   "metadata": {},
   "source": [
    "**Directories** \n",
    "\n",
    "Load data 'nd stuff"
   ]
  },
  {
   "cell_type": "code",
   "execution_count": 2,
   "metadata": {},
   "outputs": [],
   "source": [
    "data_dir = '../data/'\n",
    "peptides_file = data_dir + \"PSSM/A0201.eval\"\n",
    "peptides = np.loadtxt(peptides_file, dtype=str).tolist()"
   ]
  },
  {
   "cell_type": "markdown",
   "metadata": {},
   "source": [
    "**One-hot encoding**"
   ]
  },
  {
   "cell_type": "code",
   "execution_count": 3,
   "metadata": {},
   "outputs": [],
   "source": [
    "aa = \"ACDEFGHIKLMNPQRSTVWY\"\n",
    "aa_to_int = dict((c, i) for i, c in enumerate(aa))\n",
    "\n",
    "def encode_peptide(peptide):\n",
    "    encoding = np.zeros((len(peptide), len(aa)))\n",
    "    for i, AA in enumerate(peptide):\n",
    "        encoding[i, aa_to_int[AA]] = 1\n",
    "    return encoding"
   ]
  },
  {
   "cell_type": "markdown",
   "metadata": {},
   "source": [
    "**Data preparation**"
   ]
  },
  {
   "cell_type": "code",
   "execution_count": 4,
   "metadata": {},
   "outputs": [],
   "source": [
    "targets = []\n",
    "encodings = []\n",
    "for peptide, score in peptides:\n",
    "    X = np.array([encode_peptide(amino_acid) for amino_acid in peptide])\n",
    "    score = float(score)\n",
    "    encodings.append(X)\n",
    "    targets.append(float(score))\n",
    "\n",
    "tensor_input = torch.stack([torch.tensor(arr) for arr in encodings])\n",
    "tensor_input = tensor_input.squeeze(dim=2).float()  \n",
    "targets = torch.tensor(targets, dtype=torch.float32).unsqueeze(1)  \n",
    "\n",
    "# Split into training and evaluation sets (80/20 split)\n",
    "eval_size = int(0.2 * len(encodings))\n",
    "train_encodings, eval_encodings = tensor_input[:-eval_size], tensor_input[-eval_size:]\n",
    "train_targets, eval_targets = targets[:-eval_size], targets[-eval_size:]"
   ]
  },
  {
   "cell_type": "markdown",
   "metadata": {},
   "source": [
    "**Network**"
   ]
  },
  {
   "cell_type": "code",
   "execution_count": 5,
   "metadata": {},
   "outputs": [
    {
     "data": {
      "text/plain": [
       "<torch._C.Generator at 0x15105627c70>"
      ]
     },
     "execution_count": 5,
     "metadata": {},
     "output_type": "execute_result"
    }
   ],
   "source": [
    "class OHEBase(nn.Module):\n",
    "    def __init__(self, input_size, hidden_size):\n",
    "        super(OHEBase, self).__init__()\n",
    "        self.hidden_size = nn.Linear(input_size, hidden_size)\n",
    "        self.output = nn.Linear(hidden_size, 1)\n",
    "    \n",
    "    def forward(self, x):\n",
    "        x = x.view(x.size(0), -1)\n",
    "        x = torch.relu(self.hidden_size(x))\n",
    "        x = self.output(x)\n",
    "        return x\n",
    "\n",
    "input_size = train_encodings.size(1) * 20\n",
    "hidden_size = 16\n",
    "\n",
    "# Define the loss function\n",
    "loss_function = nn.MSELoss()  # Mean Squared Error Loss for regression tasks\n",
    "\n",
    "torch.manual_seed(69)"
   ]
  },
  {
   "cell_type": "markdown",
   "metadata": {},
   "source": [
    "**Execution**"
   ]
  },
  {
   "cell_type": "code",
   "execution_count": 7,
   "metadata": {},
   "outputs": [
    {
     "name": "stdout",
     "output_type": "stream",
     "text": [
      "Outer Fold 1/5\n",
      "  Inner Fold 1/5\n",
      "  Inner Fold 2/5\n",
      "  Inner Fold 3/5\n",
      "  Inner Fold 4/5\n",
      "  Inner Fold 5/5\n",
      "  Average Inner Validation Loss: 0.0280\n",
      "Outer Fold Validation Loss: 0.0246\n",
      "Outer Fold 2/5\n",
      "  Inner Fold 1/5\n",
      "  Inner Fold 2/5\n",
      "  Inner Fold 3/5\n",
      "  Inner Fold 4/5\n",
      "  Inner Fold 5/5\n",
      "  Average Inner Validation Loss: 0.0292\n",
      "Outer Fold Validation Loss: 0.0274\n",
      "Outer Fold 3/5\n",
      "  Inner Fold 1/5\n",
      "  Inner Fold 2/5\n",
      "  Inner Fold 3/5\n",
      "  Inner Fold 4/5\n",
      "  Inner Fold 5/5\n",
      "  Average Inner Validation Loss: 0.0232\n",
      "Outer Fold Validation Loss: 0.0300\n",
      "Outer Fold 4/5\n",
      "  Inner Fold 1/5\n",
      "  Inner Fold 2/5\n",
      "  Inner Fold 3/5\n",
      "  Inner Fold 4/5\n",
      "  Inner Fold 5/5\n",
      "  Average Inner Validation Loss: 0.0275\n",
      "Outer Fold Validation Loss: 0.0268\n",
      "Outer Fold 5/5\n",
      "  Inner Fold 1/5\n",
      "  Inner Fold 2/5\n",
      "  Inner Fold 3/5\n",
      "  Inner Fold 4/5\n",
      "  Inner Fold 5/5\n",
      "  Average Inner Validation Loss: 0.0297\n",
      "Outer Fold Validation Loss: 0.0184\n",
      "Evaluation Set Loss: 0.0220\n",
      "Pearson Correlation Coefficient (PCC) on Evaluation Set: 0.7502\n"
     ]
    },
    {
     "ename": "NameError",
     "evalue": "name '__file__' is not defined",
     "output_type": "error",
     "traceback": [
      "\u001b[1;31m---------------------------------------------------------------------------\u001b[0m",
      "\u001b[1;31mNameError\u001b[0m                                 Traceback (most recent call last)",
      "Cell \u001b[1;32mIn[7], line 87\u001b[0m\n\u001b[0;32m     84\u001b[0m plt\u001b[38;5;241m.\u001b[39mlegend()\n\u001b[0;32m     86\u001b[0m \u001b[38;5;66;03m# Save the plot in the same location as the script\u001b[39;00m\n\u001b[1;32m---> 87\u001b[0m script_dir \u001b[38;5;241m=\u001b[39m os\u001b[38;5;241m.\u001b[39mpath\u001b[38;5;241m.\u001b[39mdirname(os\u001b[38;5;241m.\u001b[39mpath\u001b[38;5;241m.\u001b[39mabspath(\u001b[38;5;18m__file__\u001b[39m))  \u001b[38;5;66;03m# Get the directory of the script\u001b[39;00m\n\u001b[0;32m     88\u001b[0m plot_path \u001b[38;5;241m=\u001b[39m os\u001b[38;5;241m.\u001b[39mpath\u001b[38;5;241m.\u001b[39mjoin(script_dir, \u001b[38;5;124m'\u001b[39m\u001b[38;5;124mpredicted_vs_actual_plot.png\u001b[39m\u001b[38;5;124m'\u001b[39m)\n\u001b[0;32m     89\u001b[0m plt\u001b[38;5;241m.\u001b[39msavefig(plot_path)\n",
      "\u001b[1;31mNameError\u001b[0m: name '__file__' is not defined"
     ]
    },
    {
     "data": {
      "image/png": "[encoded data removed]",
      "text/plain": [
       "<Figure size 640x480 with 1 Axes>"
      ]
     },
     "metadata": {},
     "output_type": "display_data"
    }
   ],
   "source": [
    "outer_kf = KFold(n_splits=5, shuffle=True)\n",
    "inner_kf = KFold(n_splits=5, shuffle=True)\n",
    "\n",
    "outer_fold_results = []\n",
    "\n",
    "for outer_fold, (train_index, val_index) in enumerate(outer_kf.split(train_encodings)):\n",
    "    print(f\"Outer Fold {outer_fold+1}/5\")\n",
    "    \n",
    "    # Split data into training and validation sets\n",
    "    X_train, X_val = train_encodings[train_index], train_encodings[val_index]\n",
    "    y_train, y_val = train_targets[train_index], train_targets[val_index]\n",
    "    \n",
    "    inner_fold_results = []\n",
    "    \n",
    "    for inner_fold, (inner_train_idx, inner_val_idx) in enumerate(inner_kf.split(X_train)):\n",
    "        print(f\"  Inner Fold {inner_fold+1}/5\")\n",
    "        \n",
    "        X_inner_train, X_inner_val = X_train[inner_train_idx], X_train[inner_val_idx]\n",
    "        y_inner_train, y_inner_val = y_train[inner_train_idx], y_train[inner_val_idx]\n",
    "        \n",
    "        model = OHEBase(input_size, hidden_size)\n",
    "        optimizer = optim.Adam(model.parameters(), lr=0.01)\n",
    "        \n",
    "        for epoch in range(100):\n",
    "            optimizer.zero_grad()\n",
    "            outputs = model(X_inner_train)\n",
    "            loss = loss_function(outputs, y_inner_train)\n",
    "            loss.backward()\n",
    "            optimizer.step()\n",
    "        \n",
    "        with torch.no_grad():\n",
    "            val_outputs = model(X_inner_val)\n",
    "            val_loss = loss_function(val_outputs, y_inner_val).item()\n",
    "            inner_fold_results.append(val_loss)\n",
    "    \n",
    "    avg_inner_val_loss = np.mean(inner_fold_results)\n",
    "    print(f\"  Average Inner Validation Loss: {avg_inner_val_loss:.4f}\")\n",
    "    \n",
    "    model = OHEBase(input_size, hidden_size)\n",
    "    optimizer = optim.Adam(model.parameters(), lr=0.01)\n",
    "    \n",
    "    for epoch in range(100):\n",
    "        optimizer.zero_grad()\n",
    "        outputs = model(X_train)\n",
    "        loss = loss_function(outputs, y_train)\n",
    "        loss.backward()\n",
    "        optimizer.step()\n",
    "    \n",
    "    with torch.no_grad():\n",
    "        val_outputs = model(X_val)\n",
    "        val_loss = loss_function(val_outputs, y_val).item()\n",
    "        outer_fold_results.append(val_loss)\n",
    "    print(f\"Outer Fold Validation Loss: {val_loss:.4f}\")\n",
    "\n",
    "# Evaluate the final model on the evaluation set and plot predictions\n",
    "model = OHEBase(input_size, hidden_size)\n",
    "optimizer = optim.Adam(model.parameters(), lr=0.01)\n",
    "\n",
    "for epoch in range(100):\n",
    "    optimizer.zero_grad()\n",
    "    outputs = model(train_encodings)\n",
    "    loss = loss_function(outputs, train_targets)\n",
    "    loss.backward()\n",
    "    optimizer.step()\n",
    "\n",
    "with torch.no_grad():\n",
    "    eval_outputs = model(eval_encodings)\n",
    "    eval_loss = loss_function(eval_outputs, eval_targets).item()\n",
    "    print(f\"Evaluation Set Loss: {eval_loss:.4f}\")\n",
    "\n",
    "    # Calculate Pearson Correlation Coefficient (PCC)\n",
    "    eval_outputs = eval_outputs.squeeze().numpy()\n",
    "    eval_targets_np = eval_targets.squeeze().numpy()\n",
    "    pcc, _ = pearsonr(eval_outputs, eval_targets_np)\n",
    "    print(f\"Pearson Correlation Coefficient (PCC) on Evaluation Set: {pcc:.4f}\")\n",
    "\n",
    "    # Create a scatter plot\n",
    "    plt.scatter(eval_targets_np, eval_outputs, color='blue', alpha=0.6, label='Predictions')\n",
    "    plt.scatter(eval_targets_np, eval_targets_np, color='green', alpha=0.6, label='Actual Values')\n",
    "    plt.xlabel('Actual Values')\n",
    "    plt.ylabel('Predicted Values')\n",
    "    plt.title('Predicted vs. Actual Values')\n",
    "    plt.plot([min(eval_targets_np), max(eval_targets_np)], [min(eval_targets_np), max(eval_targets_np)], 'r--')  # Diagonal line\n",
    "    plt.legend()\n",
    "\n",
    "    # Save the plot in the same location as the script\n",
    "    script_dir = os.path.dirname(os.path.abspath(__file__))  # Get the directory of the script\n",
    "    plot_path = os.path.join(script_dir, 'predicted_vs_actual_plot.png')\n",
    "    plt.savefig(plot_path)\n",
    "    plt.show()\n",
    "\n",
    "print(\"Nested cross-validation complete.\")"
   ]
  }
 ],
 "metadata": {
  "kernelspec": {
   "display_name": "base",
   "language": "python",
   "name": "python3"
  },
  "language_info": {
   "codemirror_mode": {
    "name": "ipython",
    "version": 3
   },
   "file_extension": ".py",
   "mimetype": "text/x-python",
   "name": "python",
   "nbconvert_exporter": "python",
   "pygments_lexer": "ipython3",
   "version": "3.11.5"
  }
 },
 "nbformat": 4,
 "nbformat_minor": 2
}
