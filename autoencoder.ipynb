{
 "cells": [
  {
   "cell_type": "markdown",
   "metadata": {},
   "source": [
    "## Load Libraries"
   ]
  },
  {
   "cell_type": "code",
   "execution_count": 77,
   "metadata": {},
   "outputs": [],
   "source": [
    "import torch\n",
    "import torch.nn as nn\n",
    "import torch.optim as optim\n",
    "from torchvision import transforms\n",
    "from torch.utils.data import DataLoader, TensorDataset\n",
    "\n",
    "import matplotlib.pyplot as plt\n",
    "import numpy as np\n",
    "\n",
    "from PIL import Image"
   ]
  },
  {
   "cell_type": "code",
   "execution_count": 78,
   "metadata": {},
   "outputs": [],
   "source": [
    "method = 'conv'"
   ]
  },
  {
   "cell_type": "code",
   "execution_count": 79,
   "metadata": {},
   "outputs": [],
   "source": [
    "amino_acid_full_names = {\n",
    "    'A': 'alanine', 'R': 'arginine', 'N': 'asparagine', 'D': 'aspartic_acid', 'C': 'cysteine', \n",
    "    'E': 'glutamic_acid', 'Q': 'glutamine', 'G': 'glycine', 'H': 'histidine', 'I': 'isoleucine', \n",
    "    'L': 'leucine', 'K': 'lysine', 'M': 'methionine', 'F': 'phenylalanine', 'P': 'proline',\n",
    "    'S': 'serine', 'T': 'threonine', 'W': 'tryptophan', 'Y': 'tyrosine', 'V': 'valine'\n",
    "}"
   ]
  },
  {
   "cell_type": "code",
   "execution_count": 80,
   "metadata": {},
   "outputs": [],
   "source": [
    "device = torch.device('cuda' if torch.cuda.is_available() else 'cpu')"
   ]
  },
  {
   "cell_type": "markdown",
   "metadata": {},
   "source": [
    "## Load in amino acid image depiction"
   ]
  },
  {
   "cell_type": "code",
   "execution_count": 81,
   "metadata": {},
   "outputs": [],
   "source": [
    "#store images in cache to save performance\n",
    "image_cache = {}\n",
    "\n",
    "def load_AA_image(img_path):\n",
    "\n",
    "    if img_path in image_cache:\n",
    "        return image_cache[img_path]\n",
    "    \n",
    "    # Define transformation to do on image\n",
    "\n",
    "    # Maybe not do it, if vgg is not the method\n",
    "    transform = transforms.ToTensor()\n",
    "    \n",
    "    image = Image.open(img_path).convert('RGB')\n",
    "    processed_image = transform(image).unsqueeze(0).to(device)\n",
    "    \n",
    "    image_cache[img_path] = processed_image\n",
    "    \n",
    "    return processed_image\n"
   ]
  },
  {
   "cell_type": "code",
   "execution_count": 82,
   "metadata": {},
   "outputs": [
    {
     "data": {
      "text/plain": [
       "torch.Size([20, 3, 400, 400])"
      ]
     },
     "execution_count": 82,
     "metadata": {},
     "output_type": "execute_result"
    },
    {
     "data": {
      "image/png": "[encoded data removed]",
      "text/plain": [
       "<Figure size 640x480 with 1 Axes>"
      ]
     },
     "metadata": {},
     "output_type": "display_data"
    }
   ],
   "source": [
    "pixel_features = [] \n",
    "\n",
    "for letter, amino_acid in amino_acid_full_names.items():\n",
    "    img_path = f'./data/2Dstruc/{amino_acid}.png'\n",
    "    img = load_AA_image(img_path)\n",
    "    pixel_features.append(img)\n",
    "\n",
    "pixel_features = torch.vstack(pixel_features)\n",
    "\n",
    "# Define dataloader\n",
    "dataloader = DataLoader(pixel_features, batch_size=20)\n",
    "\n",
    "# The transpose is necessary because the image is stored in a different way\n",
    "plt.imshow(pixel_features[0].cpu().numpy().transpose(1, 2, 0));\n",
    "plt.axis('off');\n",
    "pixel_features.shape"
   ]
  },
  {
   "cell_type": "markdown",
   "metadata": {},
   "source": [
    "## Linear Auto Encoder"
   ]
  },
  {
   "cell_type": "code",
   "execution_count": 83,
   "metadata": {},
   "outputs": [],
   "source": [
    "class AutoEncoder(nn.Module):\n",
    "    def __init__(self):\n",
    "        super(AutoEncoder, self).__init__()\n",
    "        \n",
    "        self.encoder = nn.Sequential(\n",
    "            nn.Linear(400*400*3, 200),\n",
    "            nn.ReLU(),\n",
    "            nn.Linear(200, 100),\n",
    "            nn.ReLU(),\n",
    "            nn.Linear(100, 50),\n",
    "            nn.ReLU(),\n",
    "            nn.Linear(50, 20)\n",
    "        )\n",
    "\n",
    "        self.decoder = nn.Sequential(\n",
    "            nn.Linear(20, 50),\n",
    "            nn.ReLU(),\n",
    "            nn.Linear(50, 100),\n",
    "            nn.ReLU(),\n",
    "            nn.Linear(100, 200),\n",
    "            nn.ReLU(),\n",
    "            nn.Linear(200, 400*400*3),\n",
    "            nn.Sigmoid()\n",
    "        )\n",
    "\n",
    "\n",
    "    def forward(self, x):\n",
    "        encoded = self.encoder(x)\n",
    "        decoded = self.decoder(encoded)\n",
    "        return decoded\n",
    "    \n",
    "\n",
    "# Note to self: If normalization is used, we will use \n",
    "# tanh as the activation function in the last layer"
   ]
  },
  {
   "cell_type": "markdown",
   "metadata": {},
   "source": [
    "## Convolutional Auto Encoder"
   ]
  },
  {
   "cell_type": "code",
   "execution_count": 84,
   "metadata": {},
   "outputs": [],
   "source": [
    "class ConvAutoEncoder(nn.Module):\n",
    "    def __init__(self):\n",
    "        super(ConvAutoEncoder, self).__init__()\n",
    "        self.encoder = nn.Sequential(\n",
    "            nn.Conv2d(3, 16, 3, stride=2, padding=1),  # (N, 3, 400, 400) -> (N, 16, 200, 200)\n",
    "            nn.ReLU(),\n",
    "            nn.Conv2d(16, 32, 3, stride=2, padding=1),  # (N, 16, 200, 200) -> (N, 32, 100, 100)\n",
    "            nn.ReLU(),\n",
    "            nn.Conv2d(32, 64, 7)  # (N, 32, 100, 100) -> (N, 64, 94, 94)\n",
    "        )\n",
    "        self.decoder = nn.Sequential(\n",
    "            nn.ConvTranspose2d(64, 32, 7),  # (N, 64, 94, 94) -> (N, 32, 100, 100)\n",
    "            nn.ReLU(),\n",
    "            nn.ConvTranspose2d(32, 16, 3, stride=2, padding=1, output_padding=1),  # (N, 32, 100, 100) -> (N, 16, 200, 200)\n",
    "            nn.ReLU(),\n",
    "            nn.ConvTranspose2d(16, 3, 3, stride=2, padding=1, output_padding=1),  # (N, 16, 200, 200) -> (N, 3, 400, 400)\n",
    "            nn.Sigmoid()\n",
    "        )\n",
    "\n",
    "    def forward(self, x):\n",
    "        encoded = self.encoder(x)\n",
    "        decoded = self.decoder(encoded)\n",
    "        return decoded"
   ]
  },
  {
   "cell_type": "markdown",
   "metadata": {},
   "source": [
    "## Define Model, Error function and Optimizer"
   ]
  },
  {
   "cell_type": "code",
   "execution_count": 85,
   "metadata": {},
   "outputs": [],
   "source": [
    "if method == 'linear':\n",
    "    model = AutoEncoder().to(device)\n",
    "elif method == 'conv':\n",
    "    model = ConvAutoEncoder().to(device)\n",
    "\n",
    "criterion = nn.MSELoss()\n",
    "optimizer = optim.Adam(model.parameters(), lr=1e-3, weight_decay=1e-5)"
   ]
  },
  {
   "cell_type": "markdown",
   "metadata": {},
   "source": [
    "## Train model"
   ]
  },
  {
   "cell_type": "code",
   "execution_count": 86,
   "metadata": {},
   "outputs": [
    {
     "name": "stdout",
     "output_type": "stream",
     "text": [
      "Epoch [1/100], Loss: 0.2743\n",
      "Epoch [2/100], Loss: 0.2696\n",
      "Epoch [3/100], Loss: 0.2602\n",
      "Epoch [4/100], Loss: 0.2464\n",
      "Epoch [5/100], Loss: 0.2354\n",
      "Epoch [6/100], Loss: 0.2258\n",
      "Epoch [7/100], Loss: 0.2150\n",
      "Epoch [8/100], Loss: 0.2023\n",
      "Epoch [9/100], Loss: 0.1884\n",
      "Epoch [10/100], Loss: 0.1747\n",
      "Epoch [11/100], Loss: 0.1598\n",
      "Epoch [12/100], Loss: 0.1414\n",
      "Epoch [13/100], Loss: 0.1244\n",
      "Epoch [14/100], Loss: 0.1093\n",
      "Epoch [15/100], Loss: 0.0965\n",
      "Epoch [16/100], Loss: 0.0845\n",
      "Epoch [17/100], Loss: 0.0707\n",
      "Epoch [18/100], Loss: 0.0632\n",
      "Epoch [19/100], Loss: 0.0550\n",
      "Epoch [20/100], Loss: 0.0437\n",
      "Epoch [21/100], Loss: 0.0327\n",
      "Epoch [22/100], Loss: 0.0311\n",
      "Epoch [23/100], Loss: 0.0299\n",
      "Epoch [24/100], Loss: 0.0290\n",
      "Epoch [25/100], Loss: 0.0285\n",
      "Epoch [26/100], Loss: 0.0280\n",
      "Epoch [27/100], Loss: 0.0275\n",
      "Epoch [28/100], Loss: 0.0271\n",
      "Epoch [29/100], Loss: 0.0267\n",
      "Epoch [30/100], Loss: 0.0264\n",
      "Epoch [31/100], Loss: 0.0261\n",
      "Epoch [32/100], Loss: 0.0256\n",
      "Epoch [33/100], Loss: 0.0244\n",
      "Epoch [34/100], Loss: 0.0078\n",
      "Epoch [35/100], Loss: 0.0066\n",
      "Epoch [36/100], Loss: 0.0062\n",
      "Epoch [37/100], Loss: 0.0060\n",
      "Epoch [38/100], Loss: 0.0060\n",
      "Epoch [39/100], Loss: 0.0059\n",
      "Epoch [40/100], Loss: 0.0059\n",
      "Epoch [41/100], Loss: 0.0058\n",
      "Epoch [42/100], Loss: 0.0058\n",
      "Epoch [43/100], Loss: 0.0058\n",
      "Epoch [44/100], Loss: 0.0057\n",
      "Epoch [45/100], Loss: 0.0057\n",
      "Epoch [46/100], Loss: 0.0057\n",
      "Epoch [47/100], Loss: 0.0057\n",
      "Epoch [48/100], Loss: 0.0056\n",
      "Epoch [49/100], Loss: 0.0056\n",
      "Epoch [50/100], Loss: 0.0056\n",
      "Epoch [51/100], Loss: 0.0056\n",
      "Epoch [52/100], Loss: 0.0056\n",
      "Epoch [53/100], Loss: 0.0056\n",
      "Epoch [54/100], Loss: 0.0055\n",
      "Epoch [55/100], Loss: 0.0055\n",
      "Epoch [56/100], Loss: 0.0055\n",
      "Epoch [57/100], Loss: 0.0054\n",
      "Epoch [58/100], Loss: 0.0054\n",
      "Epoch [59/100], Loss: 0.0054\n",
      "Epoch [60/100], Loss: 0.0054\n",
      "Epoch [61/100], Loss: 0.0054\n",
      "Epoch [62/100], Loss: 0.0054\n",
      "Epoch [63/100], Loss: 0.0054\n",
      "Epoch [64/100], Loss: 0.0054\n",
      "Epoch [65/100], Loss: 0.0054\n",
      "Epoch [66/100], Loss: 0.0054\n",
      "Epoch [67/100], Loss: 0.0054\n",
      "Epoch [68/100], Loss: 0.0054\n",
      "Epoch [69/100], Loss: 0.0054\n",
      "Epoch [70/100], Loss: 0.0054\n",
      "Epoch [71/100], Loss: 0.0054\n",
      "Epoch [72/100], Loss: 0.0054\n",
      "Epoch [73/100], Loss: 0.0053\n",
      "Epoch [74/100], Loss: 0.0053\n",
      "Epoch [75/100], Loss: 0.0053\n",
      "Epoch [76/100], Loss: 0.0053\n",
      "Epoch [77/100], Loss: 0.0053\n",
      "Epoch [78/100], Loss: 0.0053\n",
      "Epoch [79/100], Loss: 0.0053\n",
      "Epoch [80/100], Loss: 0.0053\n",
      "Epoch [81/100], Loss: 0.0053\n",
      "Epoch [82/100], Loss: 0.0053\n",
      "Epoch [83/100], Loss: 0.0053\n",
      "Epoch [84/100], Loss: 0.0053\n",
      "Epoch [85/100], Loss: 0.0053\n",
      "Epoch [86/100], Loss: 0.0053\n",
      "Epoch [87/100], Loss: 0.0053\n",
      "Epoch [88/100], Loss: 0.0053\n",
      "Epoch [89/100], Loss: 0.0053\n",
      "Epoch [90/100], Loss: 0.0053\n",
      "Epoch [91/100], Loss: 0.0053\n",
      "Epoch [92/100], Loss: 0.0053\n",
      "Epoch [93/100], Loss: 0.0053\n",
      "Epoch [94/100], Loss: 0.0053\n",
      "Epoch [95/100], Loss: 0.0053\n",
      "Epoch [96/100], Loss: 0.0053\n",
      "Epoch [97/100], Loss: 0.0053\n",
      "Epoch [98/100], Loss: 0.0053\n",
      "Epoch [99/100], Loss: 0.0053\n",
      "Epoch [100/100], Loss: 0.0053\n"
     ]
    }
   ],
   "source": [
    "patience = 10\n",
    "best_loss = float('inf')\n",
    "epochs_no_improve = 0\n",
    "\n",
    "num_epochs = 100\n",
    "outputs = []\n",
    "\n",
    "training_err = []\n",
    "\n",
    "for epoch in range(num_epochs):\n",
    "    model.train()\n",
    "    train_loss = 0.0\n",
    "\n",
    "    for img in dataloader:\n",
    "        \n",
    "        if method == 'linear':\n",
    "            img = img.reshape(-1, 400*400*3).to(device)  # Reshape with batch size preserved\n",
    "        elif method == 'conv':\n",
    "            img = img.to(device)\n",
    "\n",
    "        # Forward pass\n",
    "        output = model(img)\n",
    "        loss = criterion(output, img)\n",
    "        \n",
    "        # Backward pass\n",
    "        optimizer.zero_grad()\n",
    "        loss.backward()\n",
    "        optimizer.step()\n",
    "\n",
    "        train_loss += loss.item()\n",
    "    \n",
    "    train_loss /= len(dataloader)\n",
    "    training_err.append(train_loss)\n",
    "    \n",
    "    print(f'Epoch [{epoch+1}/{num_epochs}], Loss: {loss.item():.4f}')\n",
    "    outputs.append((epoch, img, output))\n",
    "\n",
    "    if train_loss < best_loss:\n",
    "        best_loss = train_loss\n",
    "        epochs_no_improve = 0\n",
    "        \n",
    "    else:\n",
    "        epochs_no_improve += 1\n",
    "    \n",
    "    if epochs_no_improve == patience:\n",
    "        print(f'Early stopping after {patience} epochs of no improvement')\n",
    "        break\n",
    "\n",
    "    torch.save(model.state_dict(), f'best_model_weights.pth')"
   ]
  },
  {
   "cell_type": "markdown",
   "metadata": {},
   "source": [
    "## Visualize Training Error"
   ]
  },
  {
   "cell_type": "code",
   "execution_count": 94,
   "metadata": {},
   "outputs": [
    {
     "name": "stderr",
     "output_type": "stream",
     "text": [
      "C:\\Users\\Chuan\\AppData\\Local\\Temp\\ipykernel_16220\\3359928179.py:1: MatplotlibDeprecationWarning: The seaborn styles shipped by Matplotlib are deprecated since 3.6, as they no longer correspond to the styles shipped by seaborn. However, they will remain available as 'seaborn-v0_8-<style>'. Alternatively, directly use the seaborn API instead.\n",
      "  plt.style.use('seaborn-whitegrid')\n"
     ]
    },
    {
     "data": {
      "text/plain": [
       "Text(0.5, 1.0, 'Training Loss')"
      ]
     },
     "execution_count": 94,
     "metadata": {},
     "output_type": "execute_result"
    },
    {
     "data": {
      "image/png": "[encoded data removed]",
      "text/plain": [
       "<Figure size 800x550 with 1 Axes>"
      ]
     },
     "metadata": {},
     "output_type": "display_data"
    }
   ],
   "source": [
    "plt.style.use('seaborn-whitegrid')\n",
    "plt.plot(range(1, num_epochs+1), training_err, '-*')\n",
    "plt.yscale('log')\n",
    "plt.xlabel('Epoch')\n",
    "plt.ylabel('Loss')\n",
    "plt.title('Training Loss')\n"
   ]
  },
  {
   "cell_type": "code",
   "execution_count": 95,
   "metadata": {},
   "outputs": [
    {
     "data": {
      "image/png": "[encoded data removed]",
      "text/plain": [
       "<Figure size 1800x400 with 18 Axes>"
      ]
     },
     "metadata": {},
     "output_type": "display_data"
    }
   ],
   "source": [
    "def plot_reconstructed_images(outputs, epoch):\n",
    "    plt.figure(figsize=(18, 4))\n",
    "    plt.suptitle(f'Original Images (top row) vs Reconstructed Images (bottom row) after {epoch} epochs')\n",
    "\n",
    "    if epoch > len(outputs):\n",
    "        print('The epoch number is greater than the number of epochs trained')\n",
    "        return\n",
    "    \n",
    "    imgs = outputs[epoch-1][1].detach().cpu().numpy()\n",
    "    recon = outputs[epoch-1][2].detach().cpu().numpy()\n",
    "\n",
    "    for i, item in enumerate(imgs):\n",
    "        if i >= 9:\n",
    "            break\n",
    "        \n",
    "        plt.subplot(2, 9, i+1)\n",
    "\n",
    "        if method == 'linear':\n",
    "            item = item.reshape(-1, 3, 400, 400)\n",
    "            plt.imshow(item[0].transpose(1, 2, 0))\n",
    "        \n",
    "        elif method == 'conv':\n",
    "            plt.imshow(item.transpose(1, 2, 0))\n",
    "        \n",
    "        plt.axis('off')\n",
    "\n",
    "    for i, item in enumerate(recon):\n",
    "        if i >= 9:\n",
    "            break\n",
    "\n",
    "        plt.subplot(2, 9, 9+i+1)\n",
    "        \n",
    "        \n",
    "        if method == 'linear':\n",
    "            item = item.reshape(-1, 3, 400, 400)\n",
    "            plt.imshow(item[0].transpose(1, 2, 0))\n",
    "        \n",
    "        elif method == 'conv':\n",
    "            plt.imshow(item.transpose(1, 2, 0))\n",
    "        \n",
    "        plt.axis('off')\n",
    "\n",
    "\n",
    "plot_reconstructed_images(outputs, epoch=100)"
   ]
  }
 ],
 "metadata": {
  "kernelspec": {
   "display_name": "Python 3",
   "language": "python",
   "name": "python3"
  },
  "language_info": {
   "codemirror_mode": {
    "name": "ipython",
    "version": 3
   },
   "file_extension": ".py",
   "mimetype": "text/x-python",
   "name": "python",
   "nbconvert_exporter": "python",
   "pygments_lexer": "ipython3",
   "version": "3.11.9"
  }
 },
 "nbformat": 4,
 "nbformat_minor": 2
}
